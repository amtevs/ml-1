{
  "cells": [
    {
      "cell_type": "markdown",
      "metadata": {
        "id": "qT4lcRBz3JKd"
      },
      "source": [
        "## Машинное обучение 1, ПМИ ФКН ВШЭ\n",
        "\n",
        "## Практическое домашнее задание 1\n",
        "\n",
        "### Общая информация\n",
        "\n",
        "Дата выдачи: 25.09.2024\n",
        "\n",
        "Мягкий дедлайн: 23:59MSK 06.10.2024\n",
        "\n",
        "Жесткий дедлайн: 23:59MSK 10.10.2024"
      ]
    },
    {
      "cell_type": "markdown",
      "metadata": {
        "id": "UzmZAvdT3JKf"
      },
      "source": [
        "### О задании\n",
        "\n",
        "Задание состоит из двух разделов, посвященных работе с табличными данными с помощью библиотеки `polars` и визуализации с помощью `matplotlib`. В первом разделе вам предстоит выполнить базовые задания с помощью вышеуказанных библиотек, а во втором распределить студентов по курсам. Баллы даются за выполнение отдельных пунктов. Задачи в рамках одного раздела рекомендуется решать в том порядке, в котором они даны в задании.\n",
        "\n",
        "Задание направлено на освоение jupyter notebook (буде использоваться в дальнейших заданиях), библиотек polars и matplotlib.\n",
        "\n",
        "### Оценивание и штрафы\n",
        "Каждая из задач имеет определенную «стоимость» (указана в скобках около задачи). Максимально допустимая оценка за работу — 10 баллов без учёта бонусов. Сдавать задание после жёсткого дедлайна нельзя.\n",
        "\n",
        "Задание выполняется самостоятельно. «Похожие» решения считаются плагиатом и все задействованные студенты (в том числе те, у кого списали) не могут получить за него больше 0 баллов (подробнее о плагиате см. на странице курса). Если вы нашли решение какого-то из заданий (или его часть) в открытом источнике, необходимо указать ссылку на этот источник (скорее всего вы будете не единственным, кто это нашел, поэтому чтобы исключить подозрение в плагиате, необходима ссылка на источник).\n",
        "\n",
        "### Формат сдачи\n",
        "Задания сдаются через систему Anytask. Инвайт можно получить у семинариста или ассистента. Присылать необходимо ноутбук с выполненным заданием. Сам ноутбук называйте в формате `homework-practice-01-polars-Username.ipynb`, где Username — ваша фамилия.\n",
        "\n",
        "Для удобства проверки самостоятельно посчитайте свою максимальную оценку (исходя из набора решенных задач) и укажите ниже.\n",
        "\n",
        "Оценка: 11.7"
      ]
    },
    {
      "cell_type": "markdown",
      "metadata": {
        "id": "bQMq9hxz3JKg"
      },
      "source": [
        "## 0. Введение"
      ]
    },
    {
      "cell_type": "markdown",
      "metadata": {
        "id": "rDm3xw-Y3JKg"
      },
      "source": [
        "Сейчас мы находимся в jupyter-ноутбуке (или ipython-ноутбуке). Это удобная среда для написания кода, проведения экспериментов, изучения данных, построения визуализаций и других нужд, не связанных с написанием production-кода.\n",
        "\n",
        "Ноутбук состоит из ячеек, каждая из которых может быть либо ячейкой с кодом, либо ячейкой с текстом размеченным и неразмеченным. Текст поддерживает markdown-разметку и формулы в Latex.\n",
        "\n",
        "Для работы с содержимым ячейки используется *режим редактирования* (*Edit mode*, включается нажатием клавиши **Enter** после выбора ячейки), а для навигации между ячейками искользуется *командный режим* (*Command mode*, включается нажатием клавиши **Esc**). Тип ячейки можно задать в командном режиме либо с помощью горячих клавиш (**y** to code, **m** to markdown, **r** to edit raw text), либо в меню *Cell -> Cell type*.\n",
        "\n",
        "После заполнения ячейки нужно нажать *Shift + Enter*, эта команда обработает содержимое ячейки: проинтерпретирует код или сверстает размеченный текст."
      ]
    },
    {
      "cell_type": "code",
      "execution_count": 1,
      "metadata": {
        "id": "OEmmbrlv3JKh",
        "colab": {
          "base_uri": "https://localhost:8080/"
        },
        "outputId": "2db2f4ef-2c78-4990-b01c-b411644bcf6f"
      },
      "outputs": [
        {
          "output_type": "execute_result",
          "data": {
            "text/plain": [
              "4"
            ]
          },
          "metadata": {},
          "execution_count": 1
        }
      ],
      "source": [
        "# ячейка с кодом, при выполнении которой появится output\n",
        "2 + 2"
      ]
    },
    {
      "cell_type": "markdown",
      "metadata": {
        "id": "pHuI1gxN3JKi"
      },
      "source": [
        "Ячейка с неразмеченыным текстом."
      ]
    },
    {
      "cell_type": "markdown",
      "metadata": {
        "id": "7Od1jM9q3JKi"
      },
      "source": [
        "Попробуйте создать свои ячейки, написать какой-нибудь код и текст какой-нибудь формулой."
      ]
    },
    {
      "cell_type": "code",
      "execution_count": 2,
      "metadata": {
        "id": "bmR2-3Ut3JKi"
      },
      "outputs": [],
      "source": [
        "# your code"
      ]
    },
    {
      "cell_type": "markdown",
      "metadata": {
        "id": "eNSsZ84J3JKj"
      },
      "source": [
        "[Здесь](https://athena.brynmawr.edu/jupyter/hub/dblank/public/Jupyter%20Notebook%20Users%20Manual.ipynb) находится <s>не</s>большая заметка о используемом языке разметки Markdown. Он позволяет:\n",
        "\n",
        "0. Составлять упорядоченные списки\n",
        "1. Выделять *текст* <s>при</s> **необходимости**\n",
        "2. Добавлять [ссылки](http://imgs.xkcd.com/comics/the_universal_label.png)\n",
        "\n",
        "\n",
        "* Составлять неупорядоченные списки\n",
        "\n",
        "Делать вставки с помощью LaTex:\n",
        "    \n",
        "$\n",
        "\\left\\{\n",
        "\\begin{array}{ll}\n",
        "x = 16 \\sin^3 (t) \\\\\n",
        "y = 13 \\cos (t) - 5 \\cos (2t) - 2 \\cos (3t) - \\cos (4t) \\\\\n",
        "t \\in [0, 2 \\pi]\n",
        "\\end{array}\n",
        "\\right.$"
      ]
    },
    {
      "cell_type": "markdown",
      "metadata": {
        "id": "lmR9WkMh3JKj"
      },
      "source": [
        "А ещё можно вставлять картинки, или гифки, или что захотите:\n",
        "\n",
        "<img src=\"https://i.imgur.com/k5df8lX.gif\" width=\"400px\">\n",
        "\n"
      ]
    },
    {
      "cell_type": "markdown",
      "metadata": {
        "id": "dPLYl66y3JKj"
      },
      "source": [
        "### Google Colab"
      ]
    },
    {
      "cell_type": "markdown",
      "metadata": {
        "id": "A4lqG21G3JKj"
      },
      "source": [
        "Что за колаб?\n",
        "\n",
        "**Google Colab (Colaboratory)** это **Jupyter Notebook + Cloud + Google Drive.**\n",
        "\n",
        "Компания Google предоставляет возможность бесплатно запускать ноутбуки (предварительно загрузив их на свой гугл-диск) прямо в облаке. При этом вам не требуется установка никаких пакетов на свою машину, а работать можно прямиком из браузера. Вот ссылка:"
      ]
    },
    {
      "cell_type": "markdown",
      "metadata": {
        "id": "79bVOFY_3JKj"
      },
      "source": [
        "https://colab.research.google.com"
      ]
    },
    {
      "cell_type": "markdown",
      "metadata": {
        "id": "LnMoUH2P3JKj"
      },
      "source": [
        "При использовании вы увидите много сходств с jupyter ноутбуком. Одним из преимуществ является доступность GPU, соответствующую опцию можно активировать в настройках сервиса. При желании вы сможете найти в интернете много туториалов по использованию или разобраться самостоятельно =)"
      ]
    },
    {
      "cell_type": "markdown",
      "metadata": {
        "id": "iAb44N3VjD11"
      },
      "source": [
        "### Kaggle\n",
        "\n",
        "Альтернативой является **Kaggle**, он же площадка для самых разных соревнований по машинному обучению\n",
        "\n",
        "Он, как и колаб, предоставляет бесплатный GPU, и даже не один, с чётким лимитом в 30 часов в неделю (colab может его внезапно отобрать, kaggle - нет) более мощные CPU с большим числом ядер, и больше Гб ОЗУ (раз так в 2.5)\n",
        "\n",
        "https://www.kaggle.com\n",
        "\n",
        "К сожалению мир не идеален, недостатки следующие:\n",
        "- необходимость загружать датасеты через специальную кнопочку\n",
        "- невозможность использовать свои скрипты и модули :(\n",
        "- нужно тыкать техподдержку, чтобы создать аккаунт из России"
      ]
    },
    {
      "cell_type": "markdown",
      "metadata": {
        "id": "91bWX9jd3JKk"
      },
      "source": [
        "## 1. Табличные данные и Polars"
      ]
    },
    {
      "cell_type": "markdown",
      "metadata": {
        "id": "Z9L3rKBm3JKk"
      },
      "source": [
        "Эта версия домашки предполагает, что вы уже являетесь уверенным пользователем `pandas` и знакомы с датафреймами, как они устроены и как ими манипулировать. Библиотека `polars` основана на тех же концептах.\n",
        "\n",
        "Главные достоинства, которые чуть позже продемонстрируем:\n",
        "- он написан на Rust, поэтому почти все операции в нём выполняются значительно быстрее, есть распараллеливание из коробки, автоматическая оптимизация запросов и пр\n",
        "- он позволяет работать с данными, которые не помещаются в оперативку, с этим поможет `pl.LazyFrame` и streaming\n",
        "- конечно же имеются дополнительные функции, которых в `pandas` нет, но очень хочется, например агрегации с расширяющимся окном, произвольные оконные функции и прочее, для этого есть крайне гибкая штука `pl.Expr`\n",
        "\n",
        "Подробнее можете прочитать на [любом](https://habr.com/ru/articles/710240/) [ресурсе](https://realpython.com/polars-python/), [посвящённом](https://blog.jetbrains.com/pycharm/2024/07/polars-vs-pandas/) [`polars`](https://habr.com/ru/companies/spectr/articles/738766/)\n",
        "\n",
        "В этой части потребуется выполнить несколько небольших заданий. Можно пойти двумя путями: сначала изучить материалы, а потом приступить к заданиям, или же разбираться \"по ходу\". Выбирайте сами\n",
        "\n",
        "Если не понятно, как вызывать конкретный метод, обратитесь к материалам ниже. Имейте в виду, что синтаксис `polars` отличается от привычного нампаевского.\n",
        "Скорее всего все ваши самые извращённые фантазии уже как-то реализованы в `polars`, поэтому читайте внимательно. Ну и конечно гуглить не запрещено, но желательно прикладывать источник\n",
        "\n",
        "Материалы:\n",
        "1. [Getting started](https://docs.pola.rs/user-guide/getting-started/#reading-writing) из официального руководства\n",
        "2. [Документация](https://docs.pola.rs/api/python/stable/reference/index.html) со всем необходимым\n",
        "3. [Модификация для Data Science](https://polars-ds-extension.readthedocs.io/en/latest/index.html), вам скорее всего не понадобится в данном задании, но имейте в виду\n",
        "\n",
        "Многие из заданий можно выполнить несколькими способами. Не существуют единственно верного, но попробуйте максимально задействовать арсенал polars и ориентируйтесь на простоту и понятность вашего кода. Мы не будем подсказывать, что нужно использовать для решения конкретной задачи, попробуйте находить необходимый функционал сами (название метода чаще всего очевидно)"
      ]
    },
    {
      "cell_type": "code",
      "execution_count": 3,
      "metadata": {
        "id": "TwYQ-X_Q-m2A"
      },
      "outputs": [],
      "source": [
        "# поларс относительно молодой, имейте в виду, что что-то может сломаться, если будете менять версию\n",
        "!pip install -qU hvplot xlsx2csv polars==1.5.0"
      ]
    },
    {
      "cell_type": "code",
      "execution_count": 4,
      "metadata": {
        "id": "72smvZpD3JKk"
      },
      "outputs": [],
      "source": [
        "import polars as pl"
      ]
    },
    {
      "cell_type": "markdown",
      "metadata": {
        "id": "hX2zRkMI3JKk"
      },
      "source": [
        "Скачаем данные:"
      ]
    },
    {
      "cell_type": "code",
      "execution_count": 5,
      "metadata": {
        "id": "a4wqrhEA3JKk"
      },
      "outputs": [],
      "source": [
        "!wget  -O 'end_seminar.xlsx' -q 'https://www.dropbox.com/s/f4rm8sjc3v99p0m/_end_seminar.xlsx?dl=0'"
      ]
    },
    {
      "cell_type": "markdown",
      "metadata": {
        "id": "joackhzP3JKl"
      },
      "source": [
        "Для пользователей Windows: скачайте файл самостоятельно и поместите его в папку с тетрадкой. Или попробуйте один из следующих вариантов:"
      ]
    },
    {
      "cell_type": "code",
      "execution_count": 6,
      "metadata": {
        "id": "yhc9NUeE3JKl",
        "colab": {
          "base_uri": "https://localhost:8080/"
        },
        "outputId": "d7e6d74e-1332-4584-8a3e-aa9cf7dc4524"
      },
      "outputs": [
        {
          "output_type": "stream",
          "name": "stdout",
          "text": [
            "/bin/bash: line 1: powershell: command not found\n"
          ]
        }
      ],
      "source": [
        "!powershell iwr -outf somefile https://somesite/somefile"
      ]
    },
    {
      "cell_type": "code",
      "execution_count": 7,
      "metadata": {
        "id": "FxbRPi183JKl",
        "colab": {
          "base_uri": "https://localhost:8080/",
          "height": 52
        },
        "outputId": "915868b6-3fe6-4ba9-9738-5d90dd91f3da"
      },
      "outputs": [
        {
          "output_type": "stream",
          "name": "stdout",
          "text": [
            "Requirement already satisfied: wget in /usr/local/lib/python3.10/dist-packages (3.2)\n"
          ]
        },
        {
          "output_type": "execute_result",
          "data": {
            "text/plain": [
              "'end_seminar (1).xlsx'"
            ],
            "application/vnd.google.colaboratory.intrinsic+json": {
              "type": "string"
            }
          },
          "metadata": {},
          "execution_count": 7
        }
      ],
      "source": [
        "!pip install wget\n",
        "import wget\n",
        "wget.download('https://dropbox.com/s/f4rm8sjc3v99p0m/_end_seminar.xlsx?dl=1', 'end_seminar.xlsx')"
      ]
    },
    {
      "cell_type": "markdown",
      "metadata": {
        "id": "5hIwLXz43JKl"
      },
      "source": [
        "### 📌 **Обязательно прочитайте блок ниже**\n",
        "\n",
        "> Пандасом и нампаем пользоваться неельзяя... Совсем\n",
        "\n",
        "> В первой части задания (до раздела \"Распределение студентов по курсам\") использование циклов запрещается и повлечет за собой снижение оценки. Во второй уже можно, но с оговорками, о чём ниже\n",
        "\n",
        "> Циклами в данном случае считается `for`, `while` и map-методы `polars`, где можно использовать лямбда-функцию. Главным образом `map_elements` и его производные.\n",
        "И как правило, всё то, что не умеет делать `pl.LazyFrame` - список [здесь](https://docs.pola.rs/api/python/stable/reference/lazyframe/index.html). Мотивация следующая - используя встроенные функции и методы, `polars` может оптимизировать ваш запрос и провести все нужные манипуляции, прежде чем сериализовать и вывести ответ (за некоторыми исключениями), поэтому важно научиться с этим управляться\n",
        "\n",
        "> Чтобы сделать выбор `polars` осмысленным, мы немножко модифицируем исходный датасет. Он будет больше в несколько раз и может не влезть в память, если у вас меньше 8 Гб, а с учётом преобразований может потребоваться до 64 Гб! Не пренебрегайте возможностями `pl.LazyFrame`. Его использование не обязательно, но может сильно облегчить вам жизнь\n",
        "\n",
        "> Трансформировать датасет `df` можно, как только это потребуется по условию (таких пунктов всего 2), на всякий случай поставим значок 🔄\n",
        "\n",
        "> Если небрежно обращаться с методами `polars`, вы рискуете крашнуть ядро, взорвать компутер, потерять рассудок... Если вдруг у вас есть тачка или хотите подебажить на исходном датасете, то пожалуйста, но помните про условия выше\n",
        "\n",
        "> Гарантируется, что задание можно выполнить, имея лишь ресурсы Google Colab (бесплатные), удачи ( ͡° ͜ʖ ͡°)"
      ]
    },
    {
      "cell_type": "markdown",
      "metadata": {
        "id": "das_ZBWy3JKl"
      },
      "source": [
        "Для каждой задачи из этого раздела вы должны написать код для получения ответа, а также дать текстовый ответ, если он предполагается.\n",
        "\n",
        "На некоторые вопросы вы можете получить путём пристального взгляда на таблицу, но это не будет засчитываться. Вы в любом случае должны получить ответ с помощью кода."
      ]
    },
    {
      "cell_type": "markdown",
      "source": [
        "### 🐻 Бонус polars. [3 балла]\n",
        "Бонус за использование `polars` равен вашей оценке за дз, умноженной на коэффициент 1.3, поэтому даже если сделали не всё, не отчаивайтесь)"
      ],
      "metadata": {
        "id": "7L9UmKvHSBhk"
      }
    },
    {
      "cell_type": "markdown",
      "metadata": {
        "id": "KH2B5XPBDlgp"
      },
      "source": [
        "#### 0. Ещё пара красивых слов"
      ]
    },
    {
      "cell_type": "markdown",
      "metadata": {
        "id": "-pO9LsL5Dsds"
      },
      "source": [
        "Первые несколько манипуляций мы сделаем за вас, а заодно поясним, в чём тут нюанс"
      ]
    },
    {
      "cell_type": "code",
      "execution_count": 8,
      "metadata": {
        "colab": {
          "base_uri": "https://localhost:8080/"
        },
        "id": "Ee0QXmptDrX7",
        "outputId": "c4b74bc8-8828-43e3-8cb3-0bbe70a97c61"
      },
      "outputs": [
        {
          "output_type": "stream",
          "name": "stdout",
          "text": [
            "361 rows\n",
            "0.14587879180908203 mb\n"
          ]
        }
      ],
      "source": [
        "# читаем датафрейм\n",
        "initial_df = pl.read_excel(\"end_seminar.xlsx\", engine=\"xlsx2csv\")\n",
        "print(initial_df.shape[0], \"rows\")\n",
        "print(initial_df.estimated_size(\"mb\"), \"mb\")"
      ]
    },
    {
      "cell_type": "markdown",
      "metadata": {
        "id": "P0nMQNXCD1IO"
      },
      "source": [
        "Как видим, он достаточно маленький. С такими объёмами выбор библиотеки это чисто вкусовщина. Давайте немного поднимем ставки"
      ]
    },
    {
      "cell_type": "code",
      "execution_count": 9,
      "metadata": {
        "id": "PzBRfWY1ECOV"
      },
      "outputs": [],
      "source": [
        "def repeat_df(df: pl.DataFrame | pl.LazyFrame, n: int = 2) -> pl.LazyFrame:\n",
        "    return (\n",
        "        df.lazy()\n",
        "        .select(pl.col(\"timestamp\").unique().sort().repeat_by(n).flatten())\n",
        "        .join(df.lazy(), on=\"timestamp\", how=\"left\")\n",
        "    )"
      ]
    },
    {
      "cell_type": "markdown",
      "metadata": {
        "id": "loouiViPEHGJ"
      },
      "source": [
        "Для работы с датафреймами, которые в память не влезают, нам понадобится объект `pl.LazyFrame`. Он представляет из себя схему выполнения вашего запроса, который оптимизируется, бьётся на батчи и параллелится под капотом через StreamingAPI, что для нас просто идеально. Перевести объект туда можно через метод `lazy`, обратно через `collect`. Учтите, что `streaming=True` работает не со всеми операциями, применяйте с умом, это можно проверить через `pl.LazyFrame.explain(streaming=True)`"
      ]
    },
    {
      "cell_type": "code",
      "execution_count": 10,
      "metadata": {
        "colab": {
          "base_uri": "https://localhost:8080/"
        },
        "id": "OvTbmiSjEEfA",
        "outputId": "786fb694-b6ef-4bc6-9280-798a150bef37"
      },
      "outputs": [
        {
          "output_type": "stream",
          "name": "stdout",
          "text": [
            "Schema\n",
            "LEFT JOIN:\n",
            "LEFT PLAN ON: [col(\"timestamp\")]\n",
            "   SELECT [col(\"timestamp\").unique().sort(asc).repeat_by([dyn int: 2]).explode()] FROM\n",
            "    STREAMING:\n",
            "      DF [\"timestamp\", \"id\", \"rating\", \"18_group\"]; PROJECT 1/16 COLUMNS; SELECTION: None\n",
            "RIGHT PLAN ON: [col(\"timestamp\")]\n",
            "  DF [\"timestamp\", \"id\", \"rating\", \"18_group\"]; PROJECT */16 COLUMNS; SELECTION: None\n",
            "END LEFT JOIN\n"
          ]
        }
      ],
      "source": [
        "repeat_n = 2\n",
        "\n",
        "repeated_df = repeat_df(initial_df, repeat_n)\n",
        "print(\"Schema\")\n",
        "print(repeated_df.explain(streaming=True, optimized=True))"
      ]
    },
    {
      "cell_type": "code",
      "execution_count": 11,
      "metadata": {
        "colab": {
          "base_uri": "https://localhost:8080/"
        },
        "id": "7geBTZI6F691",
        "outputId": "4cb18300-72a0-42de-fd36-5035576f078f"
      },
      "outputs": [
        {
          "output_type": "stream",
          "name": "stdout",
          "text": [
            "722 rows\n",
            "0.2917900085449219 mb\n"
          ]
        }
      ],
      "source": [
        "# как видим, повторы работают\n",
        "repeated_df = repeated_df.collect()\n",
        "assert repeated_df.shape[0] == initial_df.shape[0] * repeat_n\n",
        "print(repeated_df.shape[0], \"rows\")\n",
        "print(repeated_df.estimated_size(\"mb\"), \"mb\")"
      ]
    },
    {
      "cell_type": "markdown",
      "metadata": {
        "id": "00wHctZJGe8s"
      },
      "source": [
        "Теперь ещё интереснее. Если бы наш датасет был не в 2 раза больше, а в 100000 раз, что бы мы делали? К счастью для нас, поларс может уместить 300кк строк всего лишь в 512Мб, и это даже не прикол, но работать с этим придётся немного иначе"
      ]
    },
    {
      "cell_type": "code",
      "execution_count": 12,
      "metadata": {
        "colab": {
          "base_uri": "https://localhost:8080/"
        },
        "id": "jm93pikEGqJi",
        "outputId": "c7ef43eb-2c8e-4808-a69c-5ad805d38618"
      },
      "outputs": [
        {
          "output_type": "stream",
          "name": "stdout",
          "text": [
            "14.245975762605667 gb\n"
          ]
        }
      ],
      "source": [
        "N = 100000\n",
        "\n",
        "df = repeat_df(initial_df, N)\n",
        "print(initial_df.estimated_size(\"gb\") * N, \"gb\")"
      ]
    },
    {
      "cell_type": "markdown",
      "metadata": {
        "id": "MGMtuNEiG-xH"
      },
      "source": [
        "Поэтому даже такая тривиальная задача, как подсчёт строк становится уже не такой простой. Про это и будет дз"
      ]
    },
    {
      "cell_type": "code",
      "execution_count": 13,
      "metadata": {
        "colab": {
          "base_uri": "https://localhost:8080/"
        },
        "id": "pKo9lSvnHlgW",
        "outputId": "1978f023-05fc-4823-d6e5-4a28943e8658"
      },
      "outputs": [
        {
          "output_type": "stream",
          "name": "stdout",
          "text": [
            "ой, не получилось...\n"
          ]
        }
      ],
      "source": [
        "try:\n",
        "    print(df.shape[0], \"rows\")\n",
        "except AttributeError:\n",
        "    print(\"ой, не получилось...\")\n",
        "\n",
        "# df.collect().shape[0] # тоже можно, если влезет\n",
        "# len(df.collect().to_pandas()) # а такое может крашнуть ядро, попробуйте, хехе..."
      ]
    },
    {
      "cell_type": "code",
      "execution_count": 14,
      "metadata": {
        "colab": {
          "base_uri": "https://localhost:8080/"
        },
        "id": "mt-cWy3LHhvR",
        "outputId": "3071c0c3-a023-45ba-8d24-536eebfc3e8d"
      },
      "outputs": [
        {
          "output_type": "stream",
          "name": "stdout",
          "text": [
            "36100000 rows\n"
          ]
        }
      ],
      "source": [
        "def lazy_len(df: pl.LazyFrame) -> int:\n",
        "    return df.select(pl.len()).collect().item()\n",
        "\n",
        "\n",
        "rows = lazy_len(df)  # намного экономнее, потому что оптимизировано под капотом\n",
        "assert rows == initial_df.shape[0] * N\n",
        "print(rows, \"rows\")"
      ]
    },
    {
      "cell_type": "markdown",
      "metadata": {
        "id": "JZd3QSTo3JKl"
      },
      "source": [
        "#### 1. [0.5 баллов] Откройте файл с таблицей (не забудьте про её формат). Выведите 3 последних строки\n",
        "\n",
        "Посмотрите на данные и скажите, что они из себя представляют, сколько в таблице строк, какие столбцы? (на это не надо отвечать, просто подумайте об этом)"
      ]
    },
    {
      "cell_type": "code",
      "execution_count": 14,
      "metadata": {
        "id": "FArd5QGESdyO"
      },
      "outputs": [],
      "source": []
    },
    {
      "cell_type": "markdown",
      "metadata": {
        "id": "o74LHRbU3JKl"
      },
      "source": [
        "### Ответьте на вопросы:\n",
        "1. Сколько было уникальных пользователей из групп 18-го года набора, а сколько из групп 17-го года?"
      ]
    },
    {
      "cell_type": "code",
      "execution_count": 15,
      "metadata": {
        "id": "P8U67LmG3JKm",
        "colab": {
          "base_uri": "https://localhost:8080/"
        },
        "outputId": "e4e687d3-6e76-4dbf-a874-274b26fb0148"
      },
      "outputs": [
        {
          "output_type": "stream",
          "name": "stdout",
          "text": [
            "Уникальных пользователей в группах 18-го года: 213\n",
            "Уникальных пользователей в группах 17-го года: 134\n"
          ]
        }
      ],
      "source": [
        "print(\"Уникальных пользователей в группах 18-го года:\", df.select(pl.col(\"18_group\").is_not_null(), \"id\").filter(pl.col(\"18_group\") == True).unique().collect().shape[0])\n",
        "print(\"Уникальных пользователей в группах 17-го года:\", df.select(pl.col(\"17_group\").is_not_null(), \"id\").filter(pl.col(\"17_group\") == True).unique().collect().shape[0])"
      ]
    },
    {
      "cell_type": "markdown",
      "source": [
        "2. Есть ли уникальные студенты с равными перцентилями?"
      ],
      "metadata": {
        "id": "nKYih84LTNfe"
      }
    },
    {
      "cell_type": "code",
      "execution_count": 16,
      "metadata": {
        "id": "VlZxsjoO9964",
        "colab": {
          "base_uri": "https://localhost:8080/"
        },
        "outputId": "d98a8b4f-6c10-492e-f987-ba36eb388617"
      },
      "outputs": [
        {
          "output_type": "stream",
          "name": "stdout",
          "text": [
            "В таблице есть уникальные студенты с равными перцентилями: True\n"
          ]
        }
      ],
      "source": [
        "print(\"В таблице есть уникальные студенты с равными перцентилями:\", df.select(pl.col(\"id\"), pl.col(\"percentile\")).unique(subset=\"id\").collect().shape[0] != df.select(pl.col(\"id\"), pl.col(\"percentile\")).unique(subset=\"id\").unique(subset=\"percentile\").collect().shape[0])"
      ]
    },
    {
      "cell_type": "markdown",
      "metadata": {
        "id": "PObB1agk3JKm"
      },
      "source": [
        "#### 2. [0.5 балла] Есть ли в данных пропуски? В каких колонках? Сколько их в каждой из этих колонок?\n",
        "\n",
        "Уникальных или нет - не столь важно"
      ]
    },
    {
      "cell_type": "code",
      "execution_count": 17,
      "metadata": {
        "id": "zmMJ5oSi3JKm",
        "colab": {
          "base_uri": "https://localhost:8080/"
        },
        "outputId": "9056426e-6669-4126-b4fc-cb9ce2f73842"
      },
      "outputs": [
        {
          "output_type": "stream",
          "name": "stdout",
          "text": [
            "shape: (1, 16)\n",
            "┌───────────┬─────┬────────┬──────────┬───┬────────────┬──────────┬──────────┬───────────────┐\n",
            "│ timestamp ┆ id  ┆ rating ┆ 18_group ┆ … ┆ percentile ┆ 17_group ┆ blended  ┆ is_ml_student │\n",
            "│ ---       ┆ --- ┆ ---    ┆ ---      ┆   ┆ ---        ┆ ---      ┆ ---      ┆ ---           │\n",
            "│ u32       ┆ u32 ┆ u32    ┆ u32      ┆   ┆ u32        ┆ u32      ┆ u32      ┆ u32           │\n",
            "╞═══════════╪═════╪════════╪══════════╪═══╪════════════╪══════════╪══════════╪═══════════════╡\n",
            "│ 0         ┆ 0   ┆ 0      ┆ 13800000 ┆ … ┆ 0          ┆ 22300000 ┆ 22300000 ┆ 30400000      │\n",
            "└───────────┴─────┴────────┴──────────┴───┴────────────┴──────────┴──────────┴───────────────┘\n"
          ]
        }
      ],
      "source": [
        "print(df.null_count().collect())"
      ]
    },
    {
      "cell_type": "markdown",
      "metadata": {
        "id": "H0gva-uD3JKm"
      },
      "source": [
        "🔄 Преобразуйте датасет - заполните пропуски пустой строкой для строковых колонок, нулём для числовых и False для булевых (постарайтесь избежать перечисления названий всех столбцов)."
      ]
    },
    {
      "cell_type": "code",
      "execution_count": 18,
      "metadata": {
        "id": "1WOBP3Yx3JKm",
        "colab": {
          "base_uri": "https://localhost:8080/"
        },
        "outputId": "be971392-c54d-49b9-805a-7ec01fa5acd2"
      },
      "outputs": [
        {
          "output_type": "stream",
          "name": "stdout",
          "text": [
            "shape: (36_100_000, 16)\n",
            "┌─────────────┬─────────────┬────────┬──────────┬───┬────────────┬──────────┬─────────┬────────────┐\n",
            "│ timestamp   ┆ id          ┆ rating ┆ 18_group ┆ … ┆ percentile ┆ 17_group ┆ blended ┆ is_ml_stud │\n",
            "│ ---         ┆ ---         ┆ ---    ┆ ---      ┆   ┆ ---        ┆ ---      ┆ ---     ┆ ent        │\n",
            "│ str         ┆ str         ┆ i64    ┆ i64      ┆   ┆ f64        ┆ str      ┆ str     ┆ ---        │\n",
            "│             ┆             ┆        ┆          ┆   ┆            ┆          ┆         ┆ bool       │\n",
            "╞═════════════╪═════════════╪════════╪══════════╪═══╪════════════╪══════════╪═════════╪════════════╡\n",
            "│ 2020-05-14  ┆ d555d2805e1 ┆ 996    ┆ 0        ┆ … ┆ 0.963768   ┆ 172      ┆ DevOps  ┆ false      │\n",
            "│ 20:23:21    ┆ d93d4f023e5 ┆        ┆          ┆   ┆            ┆          ┆         ┆            │\n",
            "│             ┆ 7dc4c8f4…   ┆        ┆          ┆   ┆            ┆          ┆         ┆            │\n",
            "│ 2020-05-14  ┆ d555d2805e1 ┆ 996    ┆ 0        ┆ … ┆ 0.963768   ┆ 172      ┆ DevOps  ┆ false      │\n",
            "│ 20:23:21    ┆ d93d4f023e5 ┆        ┆          ┆   ┆            ┆          ┆         ┆            │\n",
            "│             ┆ 7dc4c8f4…   ┆        ┆          ┆   ┆            ┆          ┆         ┆            │\n",
            "│ 2020-05-14  ┆ d555d2805e1 ┆ 996    ┆ 0        ┆ … ┆ 0.963768   ┆ 172      ┆ DevOps  ┆ false      │\n",
            "│ 20:23:21    ┆ d93d4f023e5 ┆        ┆          ┆   ┆            ┆          ┆         ┆            │\n",
            "│             ┆ 7dc4c8f4…   ┆        ┆          ┆   ┆            ┆          ┆         ┆            │\n",
            "│ 2020-05-14  ┆ d555d2805e1 ┆ 996    ┆ 0        ┆ … ┆ 0.963768   ┆ 172      ┆ DevOps  ┆ false      │\n",
            "│ 20:23:21    ┆ d93d4f023e5 ┆        ┆          ┆   ┆            ┆          ┆         ┆            │\n",
            "│             ┆ 7dc4c8f4…   ┆        ┆          ┆   ┆            ┆          ┆         ┆            │\n",
            "│ 2020-05-14  ┆ d555d2805e1 ┆ 996    ┆ 0        ┆ … ┆ 0.963768   ┆ 172      ┆ DevOps  ┆ false      │\n",
            "│ 20:23:21    ┆ d93d4f023e5 ┆        ┆          ┆   ┆            ┆          ┆         ┆            │\n",
            "│             ┆ 7dc4c8f4…   ┆        ┆          ┆   ┆            ┆          ┆         ┆            │\n",
            "│ …           ┆ …           ┆ …      ┆ …        ┆ … ┆ …          ┆ …        ┆ …       ┆ …          │\n",
            "│ 2020-05-24  ┆ 9d19b0d5f4f ┆ 695    ┆ 188      ┆ … ┆ 0.197309   ┆          ┆         ┆ false      │\n",
            "│ 01:23:31    ┆ c8d7edc2258 ┆        ┆          ┆   ┆            ┆          ┆         ┆            │\n",
            "│             ┆ 406f872c…   ┆        ┆          ┆   ┆            ┆          ┆         ┆            │\n",
            "│ 2020-05-24  ┆ 9d19b0d5f4f ┆ 695    ┆ 188      ┆ … ┆ 0.197309   ┆          ┆         ┆ false      │\n",
            "│ 01:23:31    ┆ c8d7edc2258 ┆        ┆          ┆   ┆            ┆          ┆         ┆            │\n",
            "│             ┆ 406f872c…   ┆        ┆          ┆   ┆            ┆          ┆         ┆            │\n",
            "│ 2020-05-24  ┆ 9d19b0d5f4f ┆ 695    ┆ 188      ┆ … ┆ 0.197309   ┆          ┆         ┆ false      │\n",
            "│ 01:23:31    ┆ c8d7edc2258 ┆        ┆          ┆   ┆            ┆          ┆         ┆            │\n",
            "│             ┆ 406f872c…   ┆        ┆          ┆   ┆            ┆          ┆         ┆            │\n",
            "│ 2020-05-24  ┆ 9d19b0d5f4f ┆ 695    ┆ 188      ┆ … ┆ 0.197309   ┆          ┆         ┆ false      │\n",
            "│ 01:23:31    ┆ c8d7edc2258 ┆        ┆          ┆   ┆            ┆          ┆         ┆            │\n",
            "│             ┆ 406f872c…   ┆        ┆          ┆   ┆            ┆          ┆         ┆            │\n",
            "│ 2020-05-24  ┆ 9d19b0d5f4f ┆ 695    ┆ 188      ┆ … ┆ 0.197309   ┆          ┆         ┆ false      │\n",
            "│ 01:23:31    ┆ c8d7edc2258 ┆        ┆          ┆   ┆            ┆          ┆         ┆            │\n",
            "│             ┆ 406f872c…   ┆        ┆          ┆   ┆            ┆          ┆         ┆            │\n",
            "└─────────────┴─────────────┴────────┴──────────┴───┴────────────┴──────────┴─────────┴────────────┘\n"
          ]
        }
      ],
      "source": [
        "df = df.fill_null(strategy=\"zero\")\n",
        "print(df.collect())"
      ]
    },
    {
      "cell_type": "markdown",
      "metadata": {
        "id": "a0TfG6CY3JKn"
      },
      "source": [
        "#### 3. [0.5 балла] Посмотрите повнимательнее на колонку 'is_first_time'.\n",
        "\n",
        "Каково процентное соотношение ответов? Сколько из них \"Нет\"?"
      ]
    },
    {
      "cell_type": "code",
      "execution_count": 19,
      "metadata": {
        "id": "wGolS2eY3JKn",
        "colab": {
          "base_uri": "https://localhost:8080/"
        },
        "outputId": "253e1803-df3f-425d-a173-d211947fd015"
      },
      "outputs": [
        {
          "output_type": "stream",
          "name": "stdout",
          "text": [
            "Ответов Нет: 5100000\n",
            "Процент ответов Нет 14.127423822714682\n",
            "Процент ответов Да 85.3185595567867\n"
          ]
        }
      ],
      "source": [
        "net = df.filter(pl.col(\"is_first_time\") == \"Нет\").select(pl.len()).collect()[0, 0]\n",
        "da = df.filter(pl.col(\"is_first_time\") == \"Да\").select(pl.len()).collect()[0, 0]\n",
        "vsego = df.select(pl.len()).collect()[0, 0]\n",
        "print(\"Ответов Нет:\", net)\n",
        "print(\"Процент ответов Нет\", net / vsego*100)\n",
        "print(\"Процент ответов Да\", da / vsego*100)"
      ]
    },
    {
      "cell_type": "markdown",
      "source": [
        "Посмотрите на колонку timestamp - верно ли, что датафрейм отсортирован по ней?\n"
      ],
      "metadata": {
        "id": "013AS1deXtIZ"
      }
    },
    {
      "cell_type": "code",
      "source": [
        "print(df.select(pl.col(\"timestamp\")).collect().equals(df.select(pl.col(\"timestamp\").sort()).collect()))"
      ],
      "metadata": {
        "colab": {
          "base_uri": "https://localhost:8080/"
        },
        "id": "qelmeSpFXvqw",
        "outputId": "52ce4719-fab5-4091-f76f-8d9f6c0227fa"
      },
      "execution_count": 20,
      "outputs": [
        {
          "output_type": "stream",
          "name": "stdout",
          "text": [
            "True\n"
          ]
        }
      ]
    },
    {
      "cell_type": "markdown",
      "metadata": {
        "id": "ffyqq0ilf0pv"
      },
      "source": [
        "🔄 Оставьте только самую позднюю версию обращений студентов и сохраните изменения"
      ]
    },
    {
      "cell_type": "code",
      "execution_count": 21,
      "metadata": {
        "id": "kIgPHwvOA0tg",
        "colab": {
          "base_uri": "https://localhost:8080/"
        },
        "outputId": "0c1c2f45-98cd-4552-c41e-4fb40b3a1b9a"
      },
      "outputs": [
        {
          "output_type": "stream",
          "name": "stdout",
          "text": [
            "shape: (347, 16)\n",
            "┌────────────┬────────────┬────────┬──────────┬───┬────────────┬──────────┬────────────┬───────────┐\n",
            "│ timestamp  ┆ id         ┆ rating ┆ 18_group ┆ … ┆ percentile ┆ 17_group ┆ blended    ┆ is_ml_stu │\n",
            "│ ---        ┆ ---        ┆ ---    ┆ ---      ┆   ┆ ---        ┆ ---      ┆ ---        ┆ dent      │\n",
            "│ str        ┆ str        ┆ i64    ┆ i64      ┆   ┆ f64        ┆ str      ┆ str        ┆ ---       │\n",
            "│            ┆            ┆        ┆          ┆   ┆            ┆          ┆            ┆ bool      │\n",
            "╞════════════╪════════════╪════════╪══════════╪═══╪════════════╪══════════╪════════════╪═══════════╡\n",
            "│ 2020-05-18 ┆ d9f0e5ebc6 ┆ 531    ┆ 186      ┆ … ┆ 0.932735   ┆          ┆            ┆ false     │\n",
            "│ 14:18:18   ┆ 718202b86e ┆        ┆          ┆   ┆            ┆          ┆            ┆           │\n",
            "│            ┆ aee2de1c69 ┆        ┆          ┆   ┆            ┆          ┆            ┆           │\n",
            "│            ┆ …          ┆        ┆          ┆   ┆            ┆          ┆            ┆           │\n",
            "│ 2020-05-18 ┆ 7af276b31f ┆ 1158   ┆ 0        ┆ … ┆ 0.5        ┆ 176      ┆ DevOps     ┆ false     │\n",
            "│ 22:39:55   ┆ b741aa81ba ┆        ┆          ┆   ┆            ┆          ┆            ┆           │\n",
            "│            ┆ a85aa5c82b ┆        ┆          ┆   ┆            ┆          ┆            ┆           │\n",
            "│            ┆ …          ┆        ┆          ┆   ┆            ┆          ┆            ┆           │\n",
            "│ 2020-05-17 ┆ 757ce29d36 ┆ 1181   ┆ 0        ┆ … ┆ 0.413043   ┆ 171      ┆ Соревноват ┆ false     │\n",
            "│ 16:08:17   ┆ 47ee4aff21 ┆        ┆          ┆   ┆            ┆          ┆ ельный     ┆           │\n",
            "│            ┆ bc1a628498 ┆        ┆          ┆   ┆            ┆          ┆ анализ     ┆           │\n",
            "│            ┆ …          ┆        ┆          ┆   ┆            ┆          ┆ данных     ┆           │\n",
            "│ 2020-05-14 ┆ 2ca6917be4 ┆ 1071   ┆ 0        ┆ … ┆ 0.818841   ┆ 172      ┆ DevOps     ┆ false     │\n",
            "│ 22:00:50   ┆ 28f8b84f6f ┆        ┆          ┆   ┆            ┆          ┆            ┆           │\n",
            "│            ┆ 15cdcbea21 ┆        ┆          ┆   ┆            ┆          ┆            ┆           │\n",
            "│            ┆ …          ┆        ┆          ┆   ┆            ┆          ┆            ┆           │\n",
            "│ 2020-05-15 ┆ d82c2df25b ┆ 612    ┆ 181      ┆ … ┆ 0.596413   ┆          ┆            ┆ false     │\n",
            "│ 22:58:10   ┆ 8b36cd6550 ┆        ┆          ┆   ┆            ┆          ┆            ┆           │\n",
            "│            ┆ 77b4a885e1 ┆        ┆          ┆   ┆            ┆          ┆            ┆           │\n",
            "│            ┆ …          ┆        ┆          ┆   ┆            ┆          ┆            ┆           │\n",
            "│ …          ┆ …          ┆ …      ┆ …        ┆ … ┆ …          ┆ …        ┆ …          ┆ …         │\n",
            "│ 2020-05-18 ┆ aa21f50934 ┆ 666    ┆ 183      ┆ … ┆ 0.331839   ┆          ┆            ┆ false     │\n",
            "│ 21:31:54   ┆ a72e00bbc7 ┆        ┆          ┆   ┆            ┆          ┆            ┆           │\n",
            "│            ┆ e65a54ea0b ┆        ┆          ┆   ┆            ┆          ┆            ┆           │\n",
            "│            ┆ …          ┆        ┆          ┆   ┆            ┆          ┆            ┆           │\n",
            "│ 2020-05-18 ┆ 3da8ee3060 ┆ 1124   ┆ 0        ┆ … ┆ 0.615942   ┆ 174      ┆ Соревноват ┆ false     │\n",
            "│ 18:52:16   ┆ 4398faa671 ┆        ┆          ┆   ┆            ┆          ┆ ельный     ┆           │\n",
            "│            ┆ 135cebe8f9 ┆        ┆          ┆   ┆            ┆          ┆ анализ     ┆           │\n",
            "│            ┆ …          ┆        ┆          ┆   ┆            ┆          ┆ данных     ┆           │\n",
            "│ 2020-05-18 ┆ ffc04c64d0 ┆ 1163   ┆ 0        ┆ … ┆ 0.471014   ┆ 171      ┆ Соревноват ┆ false     │\n",
            "│ 21:00:45   ┆ 68f8d85e4d ┆        ┆          ┆   ┆            ┆          ┆ ельный     ┆           │\n",
            "│            ┆ c44e7f297e ┆        ┆          ┆   ┆            ┆          ┆ анализ     ┆           │\n",
            "│            ┆ …          ┆        ┆          ┆   ┆            ┆          ┆ данных     ┆           │\n",
            "│ 2020-05-18 ┆ 2b0d7dd550 ┆ 619    ┆ 185      ┆ … ┆ 0.560538   ┆          ┆            ┆ false     │\n",
            "│ 20:26:39   ┆ bcca4c586c ┆        ┆          ┆   ┆            ┆          ┆            ┆           │\n",
            "│            ┆ bb27d8478a ┆        ┆          ┆   ┆            ┆          ┆            ┆           │\n",
            "│            ┆ …          ┆        ┆          ┆   ┆            ┆          ┆            ┆           │\n",
            "│ 2020-05-18 ┆ 5a66e3b775 ┆ 564    ┆ 183      ┆ … ┆ 0.807175   ┆          ┆            ┆ false     │\n",
            "│ 23:09:34   ┆ 59d14dd20f ┆        ┆          ┆   ┆            ┆          ┆            ┆           │\n",
            "│            ┆ c4df996716 ┆        ┆          ┆   ┆            ┆          ┆            ┆           │\n",
            "│            ┆ …          ┆        ┆          ┆   ┆            ┆          ┆            ┆           │\n",
            "└────────────┴────────────┴────────┴──────────┴───┴────────────┴──────────┴────────────┴───────────┘\n"
          ]
        }
      ],
      "source": [
        "df = df.unique(subset=\"id\", keep=\"last\")\n",
        "print(df.collect())"
      ]
    },
    {
      "cell_type": "markdown",
      "metadata": {
        "id": "EXTt7DAJ3JKn"
      },
      "source": [
        "#### 4. [0.5 балла] Какие  blended-курсы для четверокурсников существуют? На какой blended-курс записалось наибольшее количество студентов? На каком из курсов собрались студенты с самым высоким средним рейтингом?"
      ]
    },
    {
      "cell_type": "code",
      "execution_count": 22,
      "metadata": {
        "id": "gJ0SzAfheBBi",
        "colab": {
          "base_uri": "https://localhost:8080/"
        },
        "outputId": "a8dcd859-3c60-4660-c507-9ec8b3fb5b6b"
      },
      "outputs": [
        {
          "output_type": "stream",
          "name": "stdout",
          "text": [
            "shape: (4, 1)\n",
            "┌─────────────────────────────────┐\n",
            "│ blended                         │\n",
            "│ ---                             │\n",
            "│ str                             │\n",
            "╞═════════════════════════════════╡\n",
            "│ DevOps                          │\n",
            "│ Введение в дифференциальную ге… │\n",
            "│ Соревновательный анализ данных  │\n",
            "│                                 │\n",
            "└─────────────────────────────────┘\n",
            "shape: (1, 1)\n",
            "┌────────────────────────────────┐\n",
            "│ blended                        │\n",
            "│ ---                            │\n",
            "│ str                            │\n",
            "╞════════════════════════════════╡\n",
            "│ Соревновательный анализ данных │\n",
            "└────────────────────────────────┘\n",
            "shape: (4, 2)\n",
            "┌─────────────────────────────────┬─────────────┐\n",
            "│ blended                         ┆ rating      │\n",
            "│ ---                             ┆ ---         │\n",
            "│ str                             ┆ f64         │\n",
            "╞═════════════════════════════════╪═════════════╡\n",
            "│                                 ┆ 633.901408  │\n",
            "│ Введение в дифференциальную ге… ┆ 1210.733333 │\n",
            "│ Соревновательный анализ данных  ┆ 1144.21875  │\n",
            "│ DevOps                          ┆ 1154.172414 │\n",
            "└─────────────────────────────────┴─────────────┘\n"
          ]
        }
      ],
      "source": [
        "print(df.select(pl.col(\"blended\").unique()).collect())\n",
        "print(df.select(pl.col(\"blended\")).drop_nulls().max().collect())\n",
        "print(df.group_by(\"blended\").agg(pl.col(\"rating\").mean()).collect())"
      ]
    },
    {
      "cell_type": "markdown",
      "metadata": {
        "id": "afbGGxV73JKn"
      },
      "source": [
        "#### 5. [1 балл] Выясните, есть ли студенты с абсолютно одинаковыми предпочтениями по всем курсам.\n",
        "\n",
        "Для этого сформируйте таблицу, где для каждого возможного набора курсов посчитано количество студентов, выбравших такой набор, и оставьте только строки где это количество больше 1.\n",
        "\n",
        "В данном случае набор курсов задается упорядоченным множеством ('fall_1', 'fall_2', 'fall_3', 'spring_1', 'spring_2', 'spring_3', 'blended'). Элемент blended будет нулевым для 3-го курса."
      ]
    },
    {
      "cell_type": "code",
      "execution_count": 23,
      "metadata": {
        "id": "fNXhoAMw3JKn",
        "colab": {
          "base_uri": "https://localhost:8080/"
        },
        "outputId": "0881619f-46ec-4349-8830-1569842edf7b"
      },
      "outputs": [
        {
          "output_type": "stream",
          "name": "stdout",
          "text": [
            "shape: (15, 8)\n",
            "┌─────────────┬─────────────┬─────────────┬─────────────┬─────────────┬────────────┬─────────┬─────┐\n",
            "│ fall_1      ┆ fall_2      ┆ fall_3      ┆ spring_1    ┆ spring_2    ┆ spring_3   ┆ blended ┆ len │\n",
            "│ ---         ┆ ---         ┆ ---         ┆ ---         ┆ ---         ┆ ---        ┆ ---     ┆ --- │\n",
            "│ str         ┆ str         ┆ str         ┆ str         ┆ str         ┆ str        ┆ str     ┆ u32 │\n",
            "╞═════════════╪═════════════╪═════════════╪═════════════╪═════════════╪════════════╪═════════╪═════╡\n",
            "│ Байесовские ┆ Анализ нест ┆ Сбор и      ┆ Обучение с  ┆ Компьютерно ┆ Генеративн ┆ DevOps  ┆ 2   │\n",
            "│ методы      ┆ руктурирова ┆ обработка   ┆ подкреплени ┆ е зрение    ┆ ые модели  ┆         ┆     │\n",
            "│ машинного   ┆ нных дан…   ┆ данных с    ┆ ем          ┆             ┆ в          ┆         ┆     │\n",
            "│ о…          ┆             ┆ помо…       ┆             ┆             ┆ машинном…  ┆         ┆     │\n",
            "│ Безопасност ┆ Теория баз  ┆ Язык SQL    ┆ Машинное    ┆ Компьютерны ┆ Промышленн ┆         ┆ 2   │\n",
            "│ ь компьютер ┆ данных      ┆             ┆ обучение 2  ┆ е сети      ┆ ое програм ┆         ┆     │\n",
            "│ ных сист…   ┆             ┆             ┆             ┆             ┆ мирование  ┆         ┆     │\n",
            "│             ┆             ┆             ┆             ┆             ┆ …          ┆         ┆     │\n",
            "│ Безопасност ┆ Матричные   ┆ Моделирован ┆ Промышленно ┆ Компьютерны ┆ Дискретная ┆         ┆ 2   │\n",
            "│ ь компьютер ┆ вычисления  ┆ ие          ┆ е программи ┆ е сети      ┆ оптимизаци ┆         ┆     │\n",
            "│ ных сист…   ┆             ┆ временных   ┆ рование …   ┆             ┆ я          ┆         ┆     │\n",
            "│             ┆             ┆ рядов       ┆             ┆             ┆            ┆         ┆     │\n",
            "│ Безопасност ┆ Statistical ┆ Матричные   ┆ Дискретная  ┆ Промышленно ┆ Дополнител ┆         ┆ 3   │\n",
            "│ ь компьютер ┆ Learning    ┆ вычисления  ┆ оптимизация ┆ е программи ┆ ьные главы ┆         ┆     │\n",
            "│ ных сист…   ┆ Theory      ┆             ┆             ┆ рование …   ┆ прикладно… ┆         ┆     │\n",
            "│ Безопасност ┆ Высокопроиз ┆ Язык SQL    ┆ Компьютерны ┆ Промышленно ┆ Дискретная ┆         ┆ 3   │\n",
            "│ ь компьютер ┆ водительные ┆             ┆ е сети      ┆ е программи ┆ оптимизаци ┆         ┆     │\n",
            "│ ных сист…   ┆ вычисле…    ┆             ┆             ┆ рование …   ┆ я          ┆         ┆     │\n",
            "│ …           ┆ …           ┆ …           ┆ …           ┆ …           ┆ …          ┆ …       ┆ …   │\n",
            "│ Язык SQL    ┆ Высокопроиз ┆ Теория баз  ┆ Компьютерны ┆ Промышленно ┆ Дискретная ┆         ┆ 2   │\n",
            "│             ┆ водительные ┆ данных      ┆ е сети      ┆ е программи ┆ оптимизаци ┆         ┆     │\n",
            "│             ┆ вычисле…    ┆             ┆             ┆ рование …   ┆ я          ┆         ┆     │\n",
            "│ Байесовские ┆ Анализ нест ┆ Глубинное   ┆ Обучение с  ┆ Генеративны ┆ Компьютерн ┆ DevOps  ┆ 2   │\n",
            "│ методы      ┆ руктурирова ┆ обучение в  ┆ подкреплени ┆ е модели в  ┆ ое зрение  ┆         ┆     │\n",
            "│ машинного   ┆ нных дан…   ┆ обработке…  ┆ ем          ┆ машинном…   ┆            ┆         ┆     │\n",
            "│ о…          ┆             ┆             ┆             ┆             ┆            ┆         ┆     │\n",
            "│ Высокопроиз ┆ Безопасност ┆ Сбор и      ┆ Проектирова ┆ Методы      ┆ Компьютерн ┆ DevOps  ┆ 2   │\n",
            "│ водительные ┆ ь компьютер ┆ обработка   ┆ ние и       ┆ сжатия и    ┆ ое зрение  ┆         ┆     │\n",
            "│ вычисле…    ┆ ных сист…   ┆ данных с    ┆ разработка  ┆ передачи    ┆            ┆         ┆     │\n",
            "│             ┆             ┆ помо…       ┆ вы…         ┆ медиа…      ┆            ┆         ┆     │\n",
            "│ Statistical ┆ Анализ нест ┆ Сбор и      ┆ Обучение с  ┆ Конфликты и ┆ Компьютерн ┆ DevOps  ┆ 2   │\n",
            "│ Learning    ┆ руктурирова ┆ обработка   ┆ подкреплени ┆ кооперация  ┆ ое зрение  ┆         ┆     │\n",
            "│ Theory      ┆ нных дан…   ┆ данных с    ┆ ем          ┆             ┆            ┆         ┆     │\n",
            "│             ┆             ┆ помо…       ┆             ┆             ┆            ┆         ┆     │\n",
            "│ Безопасност ┆ Высокопроиз ┆ Язык SQL    ┆ Промышленно ┆ Компьютерны ┆ Системы    ┆         ┆ 2   │\n",
            "│ ь компьютер ┆ водительные ┆             ┆ е программи ┆ е сети      ┆ баз данных ┆         ┆     │\n",
            "│ ных сист…   ┆ вычисле…    ┆             ┆ рование …   ┆             ┆            ┆         ┆     │\n",
            "└─────────────┴─────────────┴─────────────┴─────────────┴─────────────┴────────────┴─────────┴─────┘\n"
          ]
        }
      ],
      "source": [
        "course_df = df.group_by(\n",
        "  pl.col(\"fall_1\"),\n",
        "  pl.col(\"fall_2\"),\n",
        "  pl.col(\"fall_3\"),\n",
        "  pl.col(\"spring_1\"),\n",
        "  pl.col(\"spring_2\"),\n",
        "  pl.col(\"spring_3\"),\n",
        "  pl.col(\"blended\")\n",
        ").agg(pl.len()).filter(pl.col(\"len\")>1)\n",
        "print(course_df.collect())"
      ]
    },
    {
      "cell_type": "markdown",
      "metadata": {
        "id": "JU0vq96o3JKo"
      },
      "source": [
        "#### 6. [0.5 балла] Найдите курсы по выбору, на которые записывались как студенты 18-го года набора, так и студенты 17-го года."
      ]
    },
    {
      "cell_type": "code",
      "execution_count": 24,
      "metadata": {
        "id": "xIrynPwgesQU",
        "colab": {
          "base_uri": "https://localhost:8080/"
        },
        "outputId": "6b0b9ab6-ba94-4c95-f06c-7e68c2cc4aa3"
      },
      "outputs": [
        {
          "output_type": "stream",
          "name": "stdout",
          "text": [
            "shape: (7, 1)\n",
            "┌─────────────────────────────────┐\n",
            "│ comm                            │\n",
            "│ ---                             │\n",
            "│ str                             │\n",
            "╞═════════════════════════════════╡\n",
            "│ Сбор и обработка данных с помо… │\n",
            "│ Принятие решений в условиях ри… │\n",
            "│ Высокопроизводительные вычисле… │\n",
            "│ Безопасность компьютерных сист… │\n",
            "│ Statistical Learning Theory     │\n",
            "│ Моделирование временных рядов   │\n",
            "│ Численные методы                │\n",
            "└─────────────────────────────────┘\n"
          ]
        }
      ],
      "source": [
        "eight = df.filter(pl.col(\"18_group\") != 0).select(\n",
        "    pl.col(\"fall_1\"),\n",
        "    pl.col(\"fall_2\"),\n",
        "    pl.col(\"fall_3\"),\n",
        "    pl.col(\"spring_1\"),\n",
        "    pl.col(\"spring_2\"),\n",
        "    pl.col(\"spring_3\"),\n",
        "    pl.col(\"blended\")\n",
        ").collect()\n",
        "\n",
        "comm_eight = pl.concat([\n",
        "  eight[\"fall_1\"], eight[\"fall_2\"], eight[\"fall_3\"],\n",
        "  eight[\"spring_1\"], eight[\"spring_2\"], eight[\"spring_3\"],\n",
        "  eight[\"blended\"]\n",
        "]).unique().alias(\"comm\").to_frame().filter(pl.col(\"comm\") != \"\")\n",
        "\n",
        "seven = df.filter(pl.col(\"17_group\") != \"\").select(\n",
        "  pl.col(\"fall_1\"),\n",
        "  pl.col(\"fall_2\"),\n",
        "  pl.col(\"fall_3\"),\n",
        "  pl.col(\"spring_1\"),\n",
        "  pl.col(\"spring_2\"),\n",
        "  pl.col(\"spring_3\"),\n",
        "  pl.col(\"blended\"),\n",
        "  pl.col(\"17_group\")\n",
        ").collect()\n",
        "\n",
        "comm_seven = pl.concat([\n",
        "  seven[\"fall_1\"], seven[\"fall_2\"], seven[\"fall_3\"],\n",
        "  seven[\"spring_1\"], seven[\"spring_2\"], seven[\"spring_3\"],\n",
        "  seven[\"blended\"]\n",
        "]).unique().alias(\"comm\").to_frame().filter(pl.col(\"comm\") != \"\")\n",
        "\n",
        "result = comm_seven.join(comm_eight, on=\"comm\", how=\"inner\")\n",
        "print(result)"
      ]
    },
    {
      "cell_type": "markdown",
      "metadata": {
        "id": "NMkajSaI3JKr"
      },
      "source": [
        "Методом исключения найдите курсы, которые предлагались только студентам 18-го года и только студентам 17-го года."
      ]
    },
    {
      "cell_type": "code",
      "execution_count": 25,
      "metadata": {
        "id": "enzNaFLP3JKs",
        "colab": {
          "base_uri": "https://localhost:8080/"
        },
        "outputId": "dd510dc5-02f0-43d8-8d39-c1f1695a3544"
      },
      "outputs": [
        {
          "output_type": "stream",
          "name": "stdout",
          "text": [
            "Курсы для 18 группы shape: (10, 1)\n",
            "┌─────────────────────────────────┐\n",
            "│ comm                            │\n",
            "│ ---                             │\n",
            "│ str                             │\n",
            "╞═════════════════════════════════╡\n",
            "│ Машинное обучение 2             │\n",
            "│ Теория баз данных               │\n",
            "│ Дополнительные главы прикладно… │\n",
            "│ Матричные вычисления            │\n",
            "│ Дискретная оптимизация          │\n",
            "│ Компьютерные сети               │\n",
            "│ Системы баз данных              │\n",
            "│ Язык SQL                        │\n",
            "│ Промышленное программирование … │\n",
            "│ Анализ данных в бизнесе         │\n",
            "└─────────────────────────────────┘\n",
            "Курсы для 17 группы shape: (13, 1)\n",
            "┌─────────────────────────────────┐\n",
            "│ comm                            │\n",
            "│ ---                             │\n",
            "│ str                             │\n",
            "╞═════════════════════════════════╡\n",
            "│ Введение в дифференциальную ге… │\n",
            "│ Анализ неструктурированных дан… │\n",
            "│ Компьютерное зрение             │\n",
            "│ Генеративные модели в машинном… │\n",
            "│ Соревновательный анализ данных  │\n",
            "│ …                               │\n",
            "│ Конфликты и кооперация          │\n",
            "│ DevOps                          │\n",
            "│ Глубинное обучение в обработке… │\n",
            "│ Проектирование и разработка вы… │\n",
            "│ Символьные вычисления           │\n",
            "└─────────────────────────────────┘\n"
          ]
        }
      ],
      "source": [
        "print(\"Курсы для 18 группы\", comm_eight.join(result, how=\"anti\", on = \"comm\"))\n",
        "print(\"Курсы для 17 группы\", comm_seven.join(result, how=\"anti\", on = \"comm\"))"
      ]
    },
    {
      "cell_type": "markdown",
      "metadata": {
        "id": "c5TmcNdI3JKs"
      },
      "source": [
        "### Визуализации"
      ]
    },
    {
      "cell_type": "markdown",
      "metadata": {
        "id": "74juA0bp3JKs"
      },
      "source": [
        "При работе с данными часто неудобно делать какие-то выводы, если смотреть на таблицу и числа в частности, поэтому важно уметь визуализировать данные. Здесь будут описаны ключевые правила оформления графиков для **всех** домашних заданий.\n",
        "\n",
        "У matplotlib, конечно же, есть [документация](https://matplotlib.org/users/index.html) с большим количеством [примеров](https://matplotlib.org/examples/), но для начала достаточно знать про несколько основных типов графиков:\n",
        "- plot — обычный поточечный график, которым можно изображать кривые или отдельные точки;\n",
        "- hist — гистограмма, показывающая распределение некоторой величины;\n",
        "- scatter — график, показывающий взаимосвязь двух величин;\n",
        "- bar — столбцовый график, показывающий взаимосвязь количественной величины от категориальной.\n",
        "\n",
        "В этом задании вы попробуете построить один из них. Не забывайте про базовые принципы построения приличных графиков:\n",
        "- оси должны быть подписаны, причём не слишком мелко;\n",
        "- у графика должно быть название;\n",
        "- если изображено несколько графиков, то необходима поясняющая легенда;\n",
        "- все линии на графиках должны быть чётко видны (нет похожих цветов или цветов, сливающихся с фоном);\n",
        "- если возможно сделать график интерактивным, это обычно того стоит - помогает решить проблемы с читаемостью;\n",
        "- если отображена величина, имеющая очевидный диапазон значений (например, проценты могут быть от 0 до 100), то желательно масштабировать ось на весь диапазон значений (исключением является случай, когда вам необходимо показать малое отличие, которое незаметно в таких масштабах);\n",
        "- сетка на графике помогает оценить значения в точках на глаз, это обычно полезно, поэтому лучше ее отрисовывать;\n",
        "- если распределение на гистограмме имеет тяжёлые хвосты, лучше использовать логарифмическую шкалу.\n",
        "\n",
        "Еще одна билиотека для визуализации: [seaborn](https://jakevdp.github.io/PythonDataScienceHandbook/04.14-visualization-with-seaborn.html). Это настройка над matplotlib, иногда удобнее и красивее делать визуализации через неё.\n",
        "\n",
        "У `polars` уже есть встроенные инструменты для визуализации, в частности интерактивные на базе [hvplot](https://docs.pola.rs/user-guide/misc/visualization/#plotly). Из её преимуществ - хорошая производительность при работе с большими данными, есть поддержка самых популярных видов графиков, но синтаксис не самый удобный"
      ]
    },
    {
      "cell_type": "markdown",
      "metadata": {
        "id": "QkH7afPm3JKs"
      },
      "source": [
        "#### 7. [0.5 балла] Постройте график средних рейтингов по дням получения ответов (bar plot)."
      ]
    },
    {
      "cell_type": "code",
      "execution_count": 26,
      "metadata": {
        "id": "bQ3_dsZP3JKs",
        "colab": {
          "base_uri": "https://localhost:8080/",
          "height": 487
        },
        "outputId": "a90603bd-c979-405b-e7b5-5dc0935dba5b"
      },
      "outputs": [
        {
          "output_type": "display_data",
          "data": {
            "text/plain": [
              "<Figure size 1000x500 with 1 Axes>"
            ],
            "image/png": "[encoded data removed]"
          },
          "metadata": {}
        }
      ],
      "source": [
        "import matplotlib.pyplot as plt\n",
        "\n",
        "cs = df.group_by(pl.col(\"timestamp\").str.strptime(pl.Datetime).dt.day().alias(\"day\")).agg(pl.col(\"rating\").mean()).sort(\"day\").collect()\n",
        "\n",
        "fig = plt.figure(figsize = (10, 5))\n",
        "\n",
        "plt.bar(cs[\"day\"], cs[\"rating\"], width = 0.4)\n",
        "\n",
        "plt.xlabel(\"Дни получения ответа\")\n",
        "plt.ylabel(\"Средний рейтинг\")\n",
        "plt.title(\"График средних рейтингов по дням получения ответов\")\n",
        "plt.show()"
      ]
    },
    {
      "cell_type": "markdown",
      "metadata": {
        "id": "bZB_kTE63JKs"
      },
      "source": [
        "Сохраните график в формате pdf (так он останется векторизованным) или html (тогда останется интерактивным)"
      ]
    },
    {
      "cell_type": "code",
      "execution_count": 27,
      "metadata": {
        "id": "35bHvSsV3JKt",
        "colab": {
          "base_uri": "https://localhost:8080/",
          "height": 34
        },
        "outputId": "5d79bf9b-906c-4f2a-c1d4-f2cfa5ca6668"
      },
      "outputs": [
        {
          "output_type": "display_data",
          "data": {
            "text/plain": [
              "<Figure size 640x480 with 0 Axes>"
            ]
          },
          "metadata": {}
        }
      ],
      "source": [
        "plt.savefig(\"mean_rate.pdf\", format=\"pdf\")"
      ]
    },
    {
      "cell_type": "markdown",
      "metadata": {
        "id": "EvWtDBRp3JKt"
      },
      "source": [
        "### 2. Распределение студентов по курсам."
      ]
    },
    {
      "cell_type": "markdown",
      "metadata": {
        "id": "zTPksBGL3JKt"
      },
      "source": [
        "<span style=\"color:red\">!!!ВНИМАТЕЛЬНО ИЗУЧИТЕ ТЕКСТ НИЖЕ!!!</span>.\n",
        "\n",
        "<span style=\"color:orange\">Если во время выполнения заданий у вас вознинут вопросы -- еще раз перечитайте текст целиком, скорее всего ответы уже содержатся в нем.</span>\n",
        "\n",
        "Теперь вам нужно распределить студентов по осенним курсам по выбору, учитывая их предпочтения."
      ]
    },
    {
      "cell_type": "markdown",
      "metadata": {
        "id": "S5lk67UA3JKt"
      },
      "source": [
        "## 📌 **Алгоритм распределения студентов по курсам**:\n",
        "1. По умолчанию на каждой дисциплине по выбору у 3 и 4 курсов может учиться 1 группа (до 30 студентов). Исключения описаны ниже. На blended-дисциплинах для четверокурсников количество мест не ограничено.\n",
        "2. Проводится первая волна отбора. Для каждой дисциплины формируется список тех, кто указал её первым приоритетом (если студент должен выбрать два курса по выбору, то для него дисциплины, которые он указал первым и вторым приоритетом, рассматриваются как дисциплины первого приоритета). Если желающих больше, чем мест, то выбирается топ по перцентилю рейтинга.\n",
        "3. На дисциплинах, где остались места после первой волны, формируются списки тех, кто выбрал их вторым приоритетом, и места заполняются лучшими по перцентили рейтинга студентами. После этого проводится такая же процедура для дисциплин третьего приоритета.\n",
        "4. Если студент не попал на необходимое количество курсов по итогам трёх волн, с ним связывается учебный офис и решает вопрос в индивидуальном порядке."
      ]
    },
    {
      "cell_type": "markdown",
      "metadata": {
        "id": "Ux4yMPan3JKu"
      },
      "source": [
        "## ☝️ **Обращаем ваше внимание на следующие детали:**\n",
        "\n",
        "- Конкурс на каждый курс общий для 3-го и 4-го курса\n",
        "\n",
        "- По умолчанию студент выбирает один осенний и один весенний курс по выбору, а также четверокурсники выбирают один blended-курс. Студенты групп 17-го года специализаций МОП и ТИ выбирают по 2 осенних и 2 весенних курса по выбору, также студенты групп 18' специализации МИ выбирают 2 осенних курса. <i>Для студентов, которые выбирают 2 курса (например, осенних) первый приоритет — <code>fall_1</code> и <code>fall_2</code>, второй приоритет — <code>fall_3</code>. Такие студенты участвуют только в двух волнах отбора</i>.\n",
        "\n",
        "- Студенты специализации МОП не могут выбрать весенним курсом по выбору Машинное обучение 2. **Если студент специализации МОП выбрал Машинное обучение 2, то его приоритеты сдвигаются.** Из-за совпадений первого и второго курса по выбору двигать приоритеты не надо.\n",
        "\n",
        "- Blended-курсы не трогайте, по ним не надо распределять, на другие курсы они никак не влияют.\n",
        "\n",
        "- Заведомо известно, что в процессе распределения не возникнет ситуации, когда на одно место претендуют студенты с одинаковым перцентилем.\n",
        "\n",
        "- Постарайтесь воздержаться от использования циклов там, где это возможно. <i>Допустимо итерироваться по <b>курсам</b>, на которые проводится отбор, и по <b>волнам</b> отбора. Если вы придумаете, как обойтись и без этих циклов, то на усмотрение проверяющего могут быть добавлены бонусные баллы. <b>Дублирование кода не признается успешным избавлением от циклов</b></i>\n",
        "\n",
        "- На выходе ожидается файл res_fall.csv с результатами распределения на осенние курсы по выбору. Файл должен быть следующего формата:\n",
        "\n",
        "    * три столбца: ID, course1, course2\n",
        "    \n",
        "    * Если студент не попал на курс, но должен был, то вместо названия курса в ячейке должна быть строка \"???\"\n",
        "    \n",
        "    * Если студент должен выбрать только один курс, то в колонке course2 для него должна стоять строка \"-\"\n",
        "\n",
        "    * Если студент должен выбрать два курса по выбору, то порядок в колонках course1 и course2 не важен.\n",
        "    \n",
        "    * Формат csv: для сохранения воспользуйтесь `df.write_csv('solution.csv')`"
      ]
    },
    {
      "cell_type": "markdown",
      "source": [
        "Для работы вам могут понадобиться следующие данные:\n",
        "\n",
        "- Результаты опроса (вы уже использовали этот файл в первой части задания, но на всякий случай ссылка: https://www.dropbox.com/s/f4rm8sjc3v99p0m/_end_seminar.xlsx?dl=0)\n",
        "\n",
        "- Соответствие номеров групп специализациям:\n",
        "\n",
        "    * 171, 172 - МОП; 173 - ТИ; 174 — АДИС; 175, 176 — РС; 177 — АПР\n",
        "    \n",
        "    * У студентов 18-го года номера групп соответствуют номерам до распределения по специализациям. Это означает, что по номеру группы 18* нельзя однозначно определить специализацию студента. При этом в рамках распределения важно знать информацию только о двух из них: МОП и МИ. Эти знание можно получить из колонок 'is_ml_student ' и 'is_mi' соответственно.\n",
        "\n",
        "- Ограничения по количеству мест на курсах по выбору:\n",
        "\n",
        "    * Осенние: везде 30 мест, кроме Statistical Learning Theory (60 мест), Высокопроизводительных вычислений (60 мест), Анализа неструктурированных данных ($\\infty$ мест)\n",
        "\n",
        "    * Весенние: везде 30 мест, кроме Обучения с подкреплением (60 мест), Анализа данных в бизнесе (60 мест).\n",
        "\n",
        "\n",
        "Кстати, убедитесь, что в данных больше нет пропусков и повторных записей и сериализуйте датафрейм"
      ],
      "metadata": {
        "id": "q4b6w14cS_rW"
      }
    },
    {
      "cell_type": "markdown",
      "metadata": {
        "id": "vOVE6Do13JKu"
      },
      "source": [
        "#### 0. Проверка\n",
        "\n",
        "Для начала давайте убедимся, что вы успешно выполнили задания первой части и проверим ваши данные на наличие пропусков и повторов:"
      ]
    },
    {
      "cell_type": "code",
      "source": [
        "df = df.collect(streaming=True)\n",
        "\n",
        "assert df.shape[0] == 347, \"В таблице остались повторы или потеряны данные\"\n",
        "assert df.null_count().sum_horizontal().item() == 0, \"В таблице остались пропуски\""
      ],
      "metadata": {
        "id": "tNeCa71zHEe8"
      },
      "execution_count": 28,
      "outputs": []
    },
    {
      "cell_type": "markdown",
      "metadata": {
        "id": "H7qZDN0y3JKu"
      },
      "source": [
        "Если вы не получили AssertionError, то можете продолжать."
      ]
    },
    {
      "cell_type": "markdown",
      "metadata": {
        "id": "y81hqcoZ3JKu"
      },
      "source": [
        "#### 1. [1 балл] Создайте новый признак, обозначающий, сколько осенних курсов должен выбрать студент\n",
        "\n",
        "В этом вам может помочь информация о специализации и группе студента."
      ]
    },
    {
      "cell_type": "code",
      "execution_count": 29,
      "metadata": {
        "id": "ThOnhPTs3JKv",
        "colab": {
          "base_uri": "https://localhost:8080/"
        },
        "outputId": "f3a8198a-1d1c-4b0f-e92c-c20ac9384c4f"
      },
      "outputs": [
        {
          "output_type": "stream",
          "name": "stdout",
          "text": [
            "shape: (347, 17)\n",
            "┌────────────┬────────────┬────────┬──────────┬───┬──────────┬────────────┬────────────┬───────────┐\n",
            "│ timestamp  ┆ id         ┆ rating ┆ 18_group ┆ … ┆ 17_group ┆ blended    ┆ is_ml_stud ┆ fall_coun │\n",
            "│ ---        ┆ ---        ┆ ---    ┆ ---      ┆   ┆ ---      ┆ ---        ┆ ent        ┆ t         │\n",
            "│ str        ┆ str        ┆ i64    ┆ i64      ┆   ┆ str      ┆ str        ┆ ---        ┆ ---       │\n",
            "│            ┆            ┆        ┆          ┆   ┆          ┆            ┆ bool       ┆ i32       │\n",
            "╞════════════╪════════════╪════════╪══════════╪═══╪══════════╪════════════╪════════════╪═══════════╡\n",
            "│ 2020-05-18 ┆ 6b3d72def5 ┆ 641    ┆ 187      ┆ … ┆          ┆            ┆ false      ┆ 1         │\n",
            "│ 17:53:08   ┆ 3597696afb ┆        ┆          ┆   ┆          ┆            ┆            ┆           │\n",
            "│            ┆ 19faed1f83 ┆        ┆          ┆   ┆          ┆            ┆            ┆           │\n",
            "│            ┆ …          ┆        ┆          ┆   ┆          ┆            ┆            ┆           │\n",
            "│ 2020-05-17 ┆ 2e04f9bc87 ┆ 1077   ┆ 0        ┆ … ┆ 172      ┆ Соревноват ┆ false      ┆ 2         │\n",
            "│ 16:17:12   ┆ 96f095ed7b ┆        ┆          ┆   ┆          ┆ ельный     ┆            ┆           │\n",
            "│            ┆ 9c7941df91 ┆        ┆          ┆   ┆          ┆ анализ     ┆            ┆           │\n",
            "│            ┆ …          ┆        ┆          ┆   ┆          ┆ данных     ┆            ┆           │\n",
            "│ 2020-05-18 ┆ 2b844a1be4 ┆ 685    ┆ 184      ┆ … ┆          ┆            ┆ true       ┆ 1         │\n",
            "│ 23:43:49   ┆ 9f4ed2d578 ┆        ┆          ┆   ┆          ┆            ┆            ┆           │\n",
            "│            ┆ fb50b75288 ┆        ┆          ┆   ┆          ┆            ┆            ┆           │\n",
            "│            ┆ …          ┆        ┆          ┆   ┆          ┆            ┆            ┆           │\n",
            "│ 2020-05-18 ┆ 8c191b9ac6 ┆ 620    ┆ 184      ┆ … ┆          ┆            ┆ false      ┆ 1         │\n",
            "│ 19:34:58   ┆ 92c190f54e ┆        ┆          ┆   ┆          ┆            ┆            ┆           │\n",
            "│            ┆ 66167b0adc ┆        ┆          ┆   ┆          ┆            ┆            ┆           │\n",
            "│            ┆ …          ┆        ┆          ┆   ┆          ┆            ┆            ┆           │\n",
            "│ 2020-05-18 ┆ 5a6f07c1f6 ┆ 632    ┆ 186      ┆ … ┆          ┆            ┆ true       ┆ 1         │\n",
            "│ 19:25:39   ┆ 186408b43f ┆        ┆          ┆   ┆          ┆            ┆            ┆           │\n",
            "│            ┆ 0f8e729168 ┆        ┆          ┆   ┆          ┆            ┆            ┆           │\n",
            "│            ┆ …          ┆        ┆          ┆   ┆          ┆            ┆            ┆           │\n",
            "│ …          ┆ …          ┆ …      ┆ …        ┆ … ┆ …        ┆ …          ┆ …          ┆ …         │\n",
            "│ 2020-05-16 ┆ 180cf0e0dc ┆ 1051   ┆ 0        ┆ … ┆ 177      ┆ DevOps     ┆ false      ┆ 1         │\n",
            "│ 01:07:58   ┆ 7a6f88e76e ┆        ┆          ┆   ┆          ┆            ┆            ┆           │\n",
            "│            ┆ 3076cb761d ┆        ┆          ┆   ┆          ┆            ┆            ┆           │\n",
            "│            ┆ …          ┆        ┆          ┆   ┆          ┆            ┆            ┆           │\n",
            "│ 2020-05-18 ┆ 2b0d7dd550 ┆ 619    ┆ 185      ┆ … ┆          ┆            ┆ false      ┆ 1         │\n",
            "│ 20:26:39   ┆ bcca4c586c ┆        ┆          ┆   ┆          ┆            ┆            ┆           │\n",
            "│            ┆ bb27d8478a ┆        ┆          ┆   ┆          ┆            ┆            ┆           │\n",
            "│            ┆ …          ┆        ┆          ┆   ┆          ┆            ┆            ┆           │\n",
            "│ 2020-05-18 ┆ 7f98e4487c ┆ 1300   ┆ 0        ┆ … ┆ 174      ┆ Введение в ┆ false      ┆ 1         │\n",
            "│ 20:43:18   ┆ 7a910567f2 ┆        ┆          ┆   ┆          ┆ дифференци ┆            ┆           │\n",
            "│            ┆ d841e5e764 ┆        ┆          ┆   ┆          ┆ альную ге… ┆            ┆           │\n",
            "│            ┆ …          ┆        ┆          ┆   ┆          ┆            ┆            ┆           │\n",
            "│ 2020-05-18 ┆ 17676f1d09 ┆ 622    ┆ 184      ┆ … ┆          ┆            ┆ false      ┆ 1         │\n",
            "│ 01:12:33   ┆ ba15d060a7 ┆        ┆          ┆   ┆          ┆            ┆            ┆           │\n",
            "│            ┆ 352e430866 ┆        ┆          ┆   ┆          ┆            ┆            ┆           │\n",
            "│            ┆ …          ┆        ┆          ┆   ┆          ┆            ┆            ┆           │\n",
            "│ 2020-05-18 ┆ 5d76b97bcf ┆ 1257   ┆ 0        ┆ … ┆ 175      ┆ DevOps     ┆ false      ┆ 1         │\n",
            "│ 12:40:49   ┆ 684f8a1ec0 ┆        ┆          ┆   ┆          ┆            ┆            ┆           │\n",
            "│            ┆ 3057dd94d4 ┆        ┆          ┆   ┆          ┆            ┆            ┆           │\n",
            "│            ┆ …          ┆        ┆          ┆   ┆          ┆            ┆            ┆           │\n",
            "└────────────┴────────────┴────────┴──────────┴───┴──────────┴────────────┴────────────┴───────────┘\n"
          ]
        }
      ],
      "source": [
        "# (￣^￣)ゞ\n",
        "df = df.with_columns(pl.when(pl.col(\"17_group\").is_in([\"171\", \"172\", \"173\"]) | pl.col(\"is_mi\") == 1).then(2).otherwise(1).alias(\"fall_count\"))\n",
        "print(df)"
      ]
    },
    {
      "cell_type": "markdown",
      "metadata": {
        "id": "hapnRDPU3JKv"
      },
      "source": [
        "Проверка:"
      ]
    },
    {
      "cell_type": "code",
      "execution_count": 30,
      "metadata": {
        "id": "3qK9-jmP3JKv"
      },
      "outputs": [],
      "source": [
        "col_name =  \"fall_count\"\n",
        "\n",
        "ids = [\n",
        "    \"2662600c2c37e11e62f6ee0b88452f22\",\n",
        "    \"d555d2805e1d93d4f023e57dc4c8f403\",\n",
        "    \"8fe79f84f36e3a5d2d6745621321302c\",\n",
        "    \"e4caca755ee0bdd711e18fb8084958b5\",\n",
        "]\n",
        "assert (\n",
        "    df.filter(pl.col(\"id\").is_in(ids)).sort(\"id\")[col_name] == [2, 1, 2, 1]\n",
        ").all()"
      ]
    },
    {
      "cell_type": "markdown",
      "metadata": {
        "id": "kty-lzOJ3JKv"
      },
      "source": [
        "#### 2. [2 балла] Распределите студентов в соответствии с первым приоритетом"
      ]
    },
    {
      "cell_type": "code",
      "execution_count": 87,
      "metadata": {
        "id": "l5149AYH3JKv",
        "colab": {
          "base_uri": "https://localhost:8080/"
        },
        "outputId": "e617ad2a-1bab-42bb-8f3d-13184714e669"
      },
      "outputs": [
        {
          "output_type": "stream",
          "name": "stdout",
          "text": [
            "shape: (347, 3)\n",
            "┌─────────────────────────────────┬─────────────────────────────────┬─────────────────────────────┐\n",
            "│ id                              ┆ course_1                        ┆ course_2                    │\n",
            "│ ---                             ┆ ---                             ┆ ---                         │\n",
            "│ str                             ┆ str                             ┆ str                         │\n",
            "╞═════════════════════════════════╪═════════════════════════════════╪═════════════════════════════╡\n",
            "│ 4df9699d2022802f80b3e6426d6976… ┆ Безопасность компьютерных сист… ┆ Statistical Learning Theory │\n",
            "│ 2826fc94cd575c8f7b0a2416506e70… ┆ Высокопроизводительные вычисле… ┆ -                           │\n",
            "│ 851497aadac83e844753bb3b2163c7… ┆ ???                             ┆ -                           │\n",
            "│ 7f9d0f835bf734ccd4619041c3475c… ┆ ???                             ┆ -                           │\n",
            "│ 5a6dfaade650ca8bb2d081342df303… ┆ ???                             ┆ -                           │\n",
            "│ …                               ┆ …                               ┆ …                           │\n",
            "│ d670dfbe253658a4e427a5569c59de… ┆ Высокопроизводительные вычисле… ┆ -                           │\n",
            "│ 07b6ce7fd93bde95ce5fe14a5131a9… ┆ ???                             ┆ -                           │\n",
            "│ ba4091ee80dd63a042464dbd2a7e33… ┆ ???                             ┆ -                           │\n",
            "│ fd784637a19d65bbe5b07d6efac5a0… ┆ ???                             ┆ -                           │\n",
            "│ de539be8b29b3afa002184e28d63c6… ┆ Анализ неструктурированных дан… ┆ ???                         │\n",
            "└─────────────────────────────────┴─────────────────────────────────┴─────────────────────────────┘\n",
            "shape: (347, 5)\n",
            "┌───────────────────────┬───────────────────────┬─────────────────┬────────────────┬───────────────┐\n",
            "│ id                    ┆ course_1              ┆ course_2        ┆ is_first_place ┆ is_last_place │\n",
            "│ ---                   ┆ ---                   ┆ ---             ┆ ---            ┆ ---           │\n",
            "│ str                   ┆ str                   ┆ str             ┆ bool           ┆ bool          │\n",
            "╞═══════════════════════╪═══════════════════════╪═════════════════╪════════════════╪═══════════════╡\n",
            "│ 04bcb5c9d23813ffa940e ┆ Теория баз данных     ┆ -               ┆ null           ┆ null          │\n",
            "│ 1febb27fa…            ┆                       ┆                 ┆                ┆               │\n",
            "│ 2f8a48924249d22316591 ┆ Высокопроизводительны ┆ -               ┆ null           ┆ null          │\n",
            "│ 83d7654ed…            ┆ е вычисле…            ┆                 ┆                ┆               │\n",
            "│ e6f751a81ab2d5197e823 ┆ Высокопроизводительны ┆ -               ┆ null           ┆ null          │\n",
            "│ 7a9665614…            ┆ е вычисле…            ┆                 ┆                ┆               │\n",
            "│ 6b3d72def53597696afb1 ┆ Statistical Learning  ┆ -               ┆ null           ┆ null          │\n",
            "│ 9faed1f83…            ┆ Theory                ┆                 ┆                ┆               │\n",
            "│ 5d9c9087b5a851ecb6bba ┆ Матричные вычисления  ┆ -               ┆ null           ┆ null          │\n",
            "│ 1bc916b68…            ┆                       ┆                 ┆                ┆               │\n",
            "│ …                     ┆ …                     ┆ …               ┆ …              ┆ …             │\n",
            "│ 573e2218c3fe3ffc1894e ┆ Анализ                ┆ Statistical     ┆ null           ┆ null          │\n",
            "│ dc12432d3…            ┆ неструктурированных   ┆ Learning Theory ┆                ┆               │\n",
            "│                       ┆ дан…                  ┆                 ┆                ┆               │\n",
            "│ a37a88d97b12fe90dd83d ┆ Сбор и обработка      ┆ -               ┆ null           ┆ null          │\n",
            "│ d548866b2…            ┆ данных с помо…        ┆                 ┆                ┆               │\n",
            "│ 50f6d5b6a7fd6c8b1b895 ┆ Анализ                ┆ -               ┆ null           ┆ null          │\n",
            "│ 9f9ce1f80…            ┆ неструктурированных   ┆                 ┆                ┆               │\n",
            "│                       ┆ дан…                  ┆                 ┆                ┆               │\n",
            "│ a1184a8dbbf9a7418b634 ┆ Сбор и обработка      ┆ -               ┆ null           ┆ null          │\n",
            "│ 339bed7e9…            ┆ данных с помо…        ┆                 ┆                ┆               │\n",
            "│ ea9d7e5f21ee102565b14 ┆ Язык SQL              ┆ -               ┆ null           ┆ null          │\n",
            "│ 37b26eb11…            ┆                       ┆                 ┆                ┆               │\n",
            "└───────────────────────┴───────────────────────┴─────────────────┴────────────────┴───────────────┘\n"
          ]
        }
      ],
      "source": [
        "# (￣^￣)ゞ  ID, course1, course2\n",
        "help = df.with_columns(pl.when(pl.col(\"fall_count\")==2).then(pl.col(\"fall_2\")).otherwise(pl.lit(\"-\"))) #добавляем - если нудно выбрать только один курс\n",
        "\n",
        "student_course_df = (help.select([\"id\", \"fall_1\", \"fall_2\", \"percentile\"])\n",
        "    .unpivot(index=[\"id\", \"percentile\"], on=[\"fall_1\", \"fall_2\"], variable_name=\"course_type\", value_name=\"course\")\n",
        "    .filter(pl.col(\"course\").is_not_null())\n",
        "    .select([\"id\", \"course\", \"percentile\"])\n",
        " ).unique() # таблтичка учеников, курсов и перцентиля\n",
        "\n",
        "sorted_student_course_df = student_course_df.sort(\"percentile\")\n",
        "\n",
        "combined_res = sorted_student_course_df.group_by(\"course\").agg([pl.col(\"id\").alias(\"student_ids\")]) # табличка кусров со списком учеников\n",
        "\n",
        "combined_res = combined_res.with_columns(\n",
        "     pl.when(pl.col(\"course\").is_in([\"Statistical Learning Theory\", \"Высокопроизводительные вычисления\"]))\n",
        "    .then(pl.col(\"student_ids\").list.slice(60, None)).otherwise(\n",
        "        pl.when(pl.col(\"course\").is_in([\"Анализ неструктурированных данных\", \"-\"])).then(pl.lit([])).otherwise(pl.col(\"student_ids\").list.slice(30, None))\n",
        "    ).alias(\"student_ids_overflow\"), # люди которые не попали\n",
        "\n",
        "    pl.when(pl.col(\"course\").is_in([\"Statistical Learning Theory\", \"Высокопроизводительные вычисления\"]))\n",
        "    .then(pl.col(\"student_ids\").list.slice(0, 60)).otherwise(\n",
        "        pl.when(pl.col(\"course\").is_in([\"Анализ неструктурированных данных\", \"-\"])).then(pl.col(\"student_ids\")).otherwise(pl.col(\"student_ids\").list.slice(0, 30))\n",
        "        ).alias(\"student_ids\")\n",
        ") # обрезаем количество учеников\n",
        "\n",
        "# отправляем людей которые не влезли на курс ???\n",
        "overflow_res = combined_res.explode(\"student_ids_overflow\").select(\n",
        "    pl.col(\"student_ids_overflow\").alias(\"student_id\"),pl.lit(\"???\").alias(\"course\")\n",
        ").filter(pl.col(\"student_id\").is_not_null())\n",
        "\n",
        "# объединяем\n",
        "final_res = combined_res.explode(\"student_ids\").select(\n",
        "    pl.col(\"student_ids\").alias(\"student_id\"),pl.col(\"course\")\n",
        ").vstack(overflow_res)\n",
        "\n",
        "result2 = final_res.group_by(\"student_id\").agg(pl.col(\"course\").unique()) # таблица учеников со списком курсов\n",
        "result2 = result2.with_columns(sort=pl.col(\"course\").list.sort(descending = True)).select(pl.col(\"student_id\"), pl.col(\"sort\")) #сортируем курсы\n",
        "df_wave_1 = result2.with_columns(pl.col(\"sort\").list.to_struct()).unnest(\"sort\").fill_null(\"???\").rename({\"student_id\": \"ID\", \"field_0\" : \"course1\", \"field_1\": \"course2\"})\n",
        "\n",
        "print(df_wave_1)\n",
        "\n",
        "\n",
        "final_res2 = final_res.join(df.select([\"id\", \"percentile\"]), left_on=\"student_id\", right_on=\"id\", how=\"left\")\n",
        "\n",
        "min_percentiles = final_res2.group_by(\"course\").agg(pl.col(\"percentile\").min().alias(\"min_percentile\"))\n",
        "max_percentiles = final_res2.group_by(\"course\").agg(pl.col(\"percentile\").max().alias(\"max_percentile\"))\n",
        "\n",
        "final_res2 = final_res2.join(min_percentiles, on=\"course\", how=\"left\")\n",
        "final_res2 = final_res2.join(max_percentiles, on=\"course\", how=\"left\")\n",
        "\n",
        "final_res2 = final_res2.with_columns(\n",
        "    pl.when((pl.col(\"percentile\") == pl.col(\"min_percentile\")) & (pl.col(\"course\").is_in([\"-\", \"???\"]).not_())).then(True).otherwise(pl.lit(None)).alias(\"is_first_place\"),\n",
        "    pl.when((pl.col(\"percentile\") == pl.col(\"max_percentile\")) & (pl.col(\"course\").is_in([\"-\", \"???\"]).not_())).then(True).otherwise(pl.lit(None)).alias(\"is_last_place\")\n",
        ")\n",
        "\n",
        "df_wave_1 = df_wave_1.join(final_res2.select(pl.col(\"student_id\"), pl.col(\"is_first_place\"), pl.col(\"is_last_place\")), how=\"left\", left_on=\"ID\", right_on=\"student_id\")\n",
        "df_wave_1 = df_wave_1.sort([\"is_first_place\",\"is_last_place\"]).unique(subset=[\"id\", \"course_1\", \"course_2\"], keep=\"last\")\n",
        "\n",
        "print(df_wave_1)"
      ]
    },
    {
      "cell_type": "markdown",
      "metadata": {
        "id": "YtFzmI0q3JKv"
      },
      "source": [
        "Здесь для проверки приведена таблица, в которой есть 2 дополнительные колонки:\n",
        "    \n",
        "    1) is_first_place - является ли студент лучшим по перцентили хотя бы на одном из курсов, куда он был зачислен\n",
        "    (True / NaN)\n",
        "    \n",
        "    2) is_last_place  - является ли студент худшим по перцентили хотя бы на одном из курсов, куда он был зачислен (True / NaN)"
      ]
    },
    {
      "cell_type": "code",
      "execution_count": 32,
      "metadata": {
        "id": "Fdmh053Y3JKw"
      },
      "outputs": [],
      "source": [
        "!wget  -O '2_task_check.csv' -q 'https://www.dropbox.com/s/v8o2zzq3iz5gc9w/_2_task_check.csv?dl=0'\n",
        "check_df = pl.read_csv('2_task_check.csv')"
      ]
    },
    {
      "cell_type": "markdown",
      "metadata": {
        "id": "eA-fUDln3JKw"
      },
      "source": [
        "После распределения студентов в соответствии с первым приоритетом добавьте в свой датафрейм аналогичные признаки и запустите проверку:"
      ]
    },
    {
      "cell_type": "code",
      "execution_count": 81,
      "metadata": {
        "id": "ueNXylC23JKw"
      },
      "outputs": [],
      "source": [
        "fir_col_name = \"is_first_place\"\n",
        "last_col_name = \"is_last_place\"\n",
        "\n",
        "assert (\n",
        "    check_df.sort(\"id\").select(\"is_first_place\", \"is_last_place\")\n",
        "    == df_wave_1.sort(\"id\").select(fir_col_name, last_col_name)\n",
        ").sum().rows() == [(10, 12)]"
      ]
    },
    {
      "cell_type": "markdown",
      "metadata": {
        "id": "qrPM6dpZ3JKw"
      },
      "source": [
        "#### 3. [2 балла] Проведите все три волны отбора студентов на курсы по выбору"
      ]
    },
    {
      "cell_type": "code",
      "execution_count": 88,
      "metadata": {
        "id": "G_pKJQHo3JKw",
        "collapsed": true,
        "colab": {
          "base_uri": "https://localhost:8080/"
        },
        "outputId": "730e7ea8-263b-4925-b9c8-838e8723cdc4"
      },
      "outputs": [
        {
          "output_type": "stream",
          "name": "stdout",
          "text": [
            "shape: (347, 3)\n",
            "┌────────────────────────────────┬────────────────────────────────┬────────────────────────────────┐\n",
            "│ ID                             ┆ course1                        ┆ course2                        │\n",
            "│ ---                            ┆ ---                            ┆ ---                            │\n",
            "│ str                            ┆ str                            ┆ str                            │\n",
            "╞════════════════════════════════╪════════════════════════════════╪════════════════════════════════╡\n",
            "│ d4c7805c20028b28a8e3713ccdeae2 ┆ Матричные вычисления           ┆ -                              │\n",
            "│ …                              ┆                                ┆                                │\n",
            "│ fa4860bc719aadedbb00ba027067a8 ┆ Высокопроизводительные         ┆ -                              │\n",
            "│ …                              ┆ вычисле…                       ┆                                │\n",
            "│ 5a6f07c1f6186408b43f0f8e729168 ┆ Моделирование временных рядов  ┆ -                              │\n",
            "│ …                              ┆                                ┆                                │\n",
            "│ 3d67beeab64f7fe112a8d9e41efbe9 ┆ Безопасность компьютерных      ┆ -                              │\n",
            "│ …                              ┆ сист…                          ┆                                │\n",
            "│ d9133abde61da78a0b956af5dad122 ┆ Сбор и обработка данных с      ┆ Байесовские методы машинного   │\n",
            "│ …                              ┆ помо…                          ┆ о…                             │\n",
            "│ …                              ┆ …                              ┆ …                              │\n",
            "│ d7118b44c7e8fdbbaaca226d2da6fe ┆ Анализ неструктурированных     ┆ Statistical Learning Theory    │\n",
            "│ …                              ┆ дан…                           ┆                                │\n",
            "│ 0d85933f07516e8871e9415c1d95dd ┆ Высокопроизводительные         ┆ -                              │\n",
            "│ …                              ┆ вычисле…                       ┆                                │\n",
            "│ b4f1f195bd1bc63490a7bc42275a71 ┆ Высокопроизводительные         ┆ -                              │\n",
            "│ …                              ┆ вычисле…                       ┆                                │\n",
            "│ 9775834d44b69d181c5fb0c0af57c7 ┆ Байесовские методы машинного   ┆ Анализ неструктурированных     │\n",
            "│ …                              ┆ о…                             ┆ дан…                           │\n",
            "│ f0db08ec702a03450390efdca4166c ┆ Язык SQL                       ┆ -                              │\n",
            "│ …                              ┆                                ┆                                │\n",
            "└────────────────────────────────┴────────────────────────────────┴────────────────────────────────┘\n",
            "shape: (347, 3)\n",
            "┌─────────────────────────────────┬─────────────────────────────────┬─────────────────────────────┐\n",
            "│ ID                              ┆ course1                         ┆ course2                     │\n",
            "│ ---                             ┆ ---                             ┆ ---                         │\n",
            "│ str                             ┆ str                             ┆ str                         │\n",
            "╞═════════════════════════════════╪═════════════════════════════════╪═════════════════════════════╡\n",
            "│ b6fcd3cdcbbd950b4207acb65ee12d… ┆ Безопасность компьютерных сист… ┆ -                           │\n",
            "│ 5d1deb0ae3a69348a018881ac785fd… ┆ Высокопроизводительные вычисле… ┆ Statistical Learning Theory │\n",
            "│ 72e79e6a79cb4025077b371cc6e542… ┆ Теория баз данных               ┆ -                           │\n",
            "│ a19f36ae8465cac527e8ce7b6ebf12… ┆ Язык SQL                        ┆ -                           │\n",
            "│ e22f8203911170e6b68b1b88cf85fe… ┆ Высокопроизводительные вычисле… ┆ -                           │\n",
            "│ …                               ┆ …                               ┆ …                           │\n",
            "│ e6f5eb76b34e7ab7bac753e6cb0a22… ┆ Теория баз данных               ┆ -                           │\n",
            "│ 3de75278c0cdb78bbe54267f65c67d… ┆ Язык SQL                        ┆ -                           │\n",
            "│ 348562c4a55053de25fdd4389b9f11… ┆ Моделирование временных рядов   ┆ -                           │\n",
            "│ 0c0cbdd1a309c1d1fd8993c4dc907b… ┆ ???                             ┆ ???                         │\n",
            "│ 7fcf56aae6836855a689000a50e803… ┆ ???                             ┆ ???                         │\n",
            "└─────────────────────────────────┴─────────────────────────────────┴─────────────────────────────┘\n"
          ]
        }
      ],
      "source": [
        "# (￣^￣)ゞ\n",
        "help2 =  df.with_columns(pl.when(pl.col(\"fall_count\")==1).then(pl.col(\"fall_2\")).otherwise(pl.col(\"fall_3\")).alias(\"wave_2\")) # табличка с нужными курсами для второй волны\n",
        "overflow_res2 = overflow_res.unique().join(help2.select(pl.col(\"id\"), pl.col(\"percentile\"), pl.col(\"wave_2\")), left_on=\"student_id\", right_on=\"id\", how=\"left\").drop(\"course\").sort(\"percentile\")\n",
        "combined_res2 = overflow_res2.group_by(\"wave_2\").agg([pl.col(\"student_id\")]).rename({\"wave_2\": \"course\", \"student_id\":\"student_ids\"}) # табличка курсов и списка учеников\n",
        "\n",
        "combined_df2 = (\n",
        "    combined_res.select(pl.col(\"course\"), pl.col(\"student_ids\")).vstack(combined_res2).group_by(\"course\")\n",
        "    .agg(pl.concat_list(\"student_ids\").flatten())\n",
        ") # таблица с объединением первой волны и второй\n",
        "\n",
        "combined_df2 = combined_df2.with_columns(\n",
        "     pl.when(pl.col(\"course\").is_in([\"Statistical Learning Theory\", \"Высокопроизводительные вычисления\"]))\n",
        "    .then(pl.col(\"student_ids\").list.slice(60, None)).otherwise(\n",
        "        pl.when(pl.col(\"course\").is_in([\"Анализ неструктурированных данных\", \"-\"])).then(pl.lit([])).otherwise(pl.col(\"student_ids\").list.slice(30, None))\n",
        "    ).alias(\"student_ids_overflow\"), # люди которые не попали\n",
        "\n",
        "    pl.when(pl.col(\"course\").is_in([\"Statistical Learning Theory\", \"Высокопроизводительные вычисления\"]))\n",
        "    .then(pl.col(\"student_ids\").list.slice(0, 60)).otherwise(\n",
        "        pl.when(pl.col(\"course\").is_in([\"Анализ неструктурированных данных\", \"-\"])).then(pl.col(\"student_ids\")).otherwise(pl.col(\"student_ids\").list.slice(0, 30)))\n",
        "    .alias(\"student_ids\")\n",
        ") # обрезаем количество учеников\n",
        "\n",
        "# отправляем людей которые не влезли на курс ???\n",
        "overflow_res22 = combined_df2.explode(\"student_ids_overflow\").select(\n",
        "    pl.col(\"student_ids_overflow\").alias(\"student_id\"), pl.lit(\"???\").alias(\"course\")\n",
        ").filter(pl.col(\"student_id\").is_not_null())\n",
        "\n",
        "final_res22 = combined_df2.explode(\"student_ids\").select(\n",
        "    pl.col(\"student_ids\").alias(\"student_id\"), pl.col(\"course\")\n",
        ").vstack(overflow_res22)\n",
        "\n",
        "result22 = final_res22.group_by(\"student_id\").agg(pl.col(\"course\").unique()) # таблица учеников со списком курсов\n",
        "result22 = result22.with_columns(sort=pl.col(\"course\").list.sort(descending = True)).select(pl.col(\"student_id\"), pl.col(\"sort\"))\n",
        "df_wave_2 = result22.with_columns(pl.col(\"sort\").list.to_struct()).unnest(\"sort\").fill_null(\"???\").rename({\"student_id\": \"ID\", \"field_0\" : \"course1\", \"field_1\": \"course2\"})\n",
        "\n",
        "print(df_wave_2)\n",
        "\n",
        "\n",
        "help3 = df.with_columns(pl.when(pl.col(\"fall_count\")==1).then(pl.col(\"fall_3\")).otherwise(None).alias(\"wave_3\")) # табличка с нужными курсами для третьей волны\n",
        "overflow_res3 = overflow_res22.join(help3.select(pl.col(\"id\"), pl.col(\"percentile\"), pl.col(\"wave_3\")), left_on=\"student_id\", right_on=\"id\", how=\"left\").drop(\"course\").sort(\"percentile\")\n",
        "combined_res3 = overflow_res3.group_by(\"wave_3\").agg([pl.col(\"student_id\")]).rename({\"wave_3\": \"course\", \"student_id\":\"student_ids\"}).drop_nulls(\"course\")\n",
        "combined_df3 = (\n",
        "    combined_df2.select(pl.col(\"course\"), pl.col(\"student_ids\")).vstack(combined_res3).group_by(\"course\")\n",
        "    .agg(pl.concat_list(\"student_ids\").flatten().alias(\"student_ids\"))\n",
        ") # таблица с объединением первой, второй волны и третьей\n",
        "\n",
        "combined_df3 = combined_df3.with_columns(\n",
        "     pl.when(pl.col(\"course\").is_in([\"Statistical Learning Theory\", \"Высокопроизводительные вычисления\"]))\n",
        "    .then(pl.col(\"student_ids\").list.slice(60, None)).otherwise(\n",
        "        pl.when(pl.col(\"course\").is_in([\"Анализ неструктурированных данных\", \"-\"])).then(pl.lit([])).otherwise(pl.col(\"student_ids\").list.slice(30, None))\n",
        "    ).alias(\"student_ids_overflow\"), # люди которые не попали\n",
        "\n",
        "    pl.when(pl.col(\"course\").is_in([\"Statistical Learning Theory\", \"Высокопроизводительные вычисления\"]))\n",
        "    .then(pl.col(\"student_ids\").list.slice(0, 60)).otherwise(\n",
        "        pl.when(pl.col(\"course\").is_in([\"Анализ неструктурированных данных\", \"-\"])).then(pl.col(\"student_ids\")).otherwise(pl.col(\"student_ids\").list.slice(0, 30)))\n",
        "    .alias(\"student_ids\")\n",
        ") # обрезаем количество учеников\n",
        "\n",
        "# отправляем людей которые не влезли на курс ???\n",
        "overflow_res33 = combined_df3.explode(\"student_ids_overflow\").select(\n",
        "    pl.col(\"student_ids_overflow\").alias(\"student_id\"), pl.lit(\"???\").alias(\"course\")\n",
        ").filter(pl.col(\"student_id\").is_not_null())\n",
        "\n",
        "final_res33 = combined_df3.explode(\"student_ids\").select(\n",
        "    pl.col(\"student_ids\").alias(\"student_id\"), pl.col(\"course\")\n",
        ").vstack(overflow_res33)\n",
        "\n",
        "result33 = final_res33.group_by(\"student_id\").agg(pl.col(\"course\").unique()) # таблица учеников со списком курсов\n",
        "result33 = result33.with_columns(sort=pl.col(\"course\").list.sort(descending = True)).select(pl.col(\"student_id\"), pl.col(\"sort\"))\n",
        "df_wave_3 = result33.with_columns(pl.col(\"sort\").list.to_struct()).unnest(\"sort\").fill_null(\"???\").rename({\"student_id\": \"ID\", \"field_0\" : \"course1\", \"field_1\": \"course2\"})\n",
        "\n",
        "missing_students = df_wave_2.join(df_wave_3, on=\"ID\", how=\"anti\")\n",
        "df_wave_3 = df_wave_3.vstack(missing_students)\n",
        "\n",
        "\n",
        "print(df_wave_3)\n",
        "df_wave_3.write_csv(\"res_fall.csv\")\n",
        "\n"
      ]
    },
    {
      "cell_type": "markdown",
      "metadata": {
        "id": "JgiMyLJz3JKw"
      },
      "source": [
        "**Отправьте свой файл res_fall.csv в контест (будет в ближайшее время, следите за новостями) и прикрепите/укажите ниже ваш никнейм и ссылку на успешную посылку.**"
      ]
    },
    {
      "cell_type": "markdown",
      "metadata": {
        "id": "3za2-Axk3JKw"
      },
      "source": [
        "*Дисклеймер:*\n",
        "\n",
        "Контест выдаётся для самопроверки. Если ваша посылка получила ОК, то код, скорее всего, правильный. Но при этом оценка всё равно может быть снижена в случае обнаружения неэффективностей или ошибок в коде. Если вы сдадите в AnyTask очевидно неработающий код или ноутбук без кода, но при этом в контест будет сдан корректный файл, то это будет расцениваться как плагиат."
      ]
    },
    {
      "cell_type": "markdown",
      "metadata": {
        "id": "jzciJOzo3JKw"
      },
      "source": [
        "На всякий случай просим вас сдать вместе с ноутбуком файл res_fall.csv в anytask"
      ]
    },
    {
      "cell_type": "markdown",
      "metadata": {
        "id": "XRHWCteT3JKx"
      },
      "source": [
        "### 4. [1 балл] Распределите таким же образом студентов еще и на весенние курсы по выбору.\n",
        "\n",
        "Если ваш код был хорошо структурирован, то это не составит проблем.\n",
        "\n",
        "Если вы выполнили это задание, сдайте среди прочего файл res_spring.csv в таком же формате, как и res_fall.csv."
      ]
    },
    {
      "cell_type": "code",
      "execution_count": null,
      "metadata": {
        "id": "8hDYJoMO3JKx"
      },
      "outputs": [],
      "source": [
        "# (￣^'￣)ゞ"
      ]
    },
    {
      "cell_type": "markdown",
      "metadata": {
        "id": "xw9tt9dH3JKx"
      },
      "source": [
        "**Отправьте свой файл res_spring.csv в контест (будет в ближайшее время, следите за новостями) и прикрепите/укажите ниже ваш никнейм и ссылку на успешную посылку.**"
      ]
    },
    {
      "cell_type": "markdown",
      "metadata": {
        "id": "7aB4Q1fs3JKx"
      },
      "source": [
        "На всякий случай просим вас сдать вместе с ноутбуком файл res_spring.csv в anytask"
      ]
    },
    {
      "cell_type": "markdown",
      "metadata": {
        "id": "M1LivaOx3JKx"
      },
      "source": [
        "Вставьте картинку, описывающую ваш опыт выполнения этого задания:"
      ]
    },
    {
      "cell_type": "markdown",
      "source": [
        "![photo_5195321857652416171_x.jpg](data:image/jpeg;base64,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)"
      ],
      "metadata": {
        "id": "Ug5QaJ3GYuRs"
      }
    }
  ],
  "metadata": {
    "colab": {
      "provenance": [],
      "collapsed_sections": [
        "bQMq9hxz3JKg",
        "dPLYl66y3JKj"
      ]
    },
    "kernelspec": {
      "display_name": "Python 3",
      "language": "python",
      "name": "python3"
    },
    "language_info": {
      "codemirror_mode": {
        "name": "ipython",
        "version": 3
      },
      "file_extension": ".py",
      "mimetype": "text/x-python",
      "name": "python",
      "nbconvert_exporter": "python",
      "pygments_lexer": "ipython3",
      "version": "3.10.13"
    }
  },
  "nbformat": 4,
  "nbformat_minor": 0
}